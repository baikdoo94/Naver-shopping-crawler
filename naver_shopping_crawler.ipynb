{
 "cells": [
  {
   "cell_type": "markdown",
   "metadata": {},
   "source": [
    "네이버쇼핑 크롤링 코드입니다. \n",
    "\n",
    "\n",
    "검색어와 검색하고자 하는 페이지를 입력하면 크롤링합니다."
   ]
  },
  {
   "cell_type": "code",
   "execution_count": 1,
   "metadata": {},
   "outputs": [],
   "source": [
    "import re, requests, csv\n",
    "from tqdm.notebook import tqdm\n",
    "from bs4 import BeautifulSoup\n",
    "import time\n",
    "from selenium import webdriver\n",
    "from selenium.webdriver.common.keys import Keys\n",
    "import pandas as pd\n",
    "import os"
   ]
  },
  {
   "cell_type": "code",
   "execution_count": 2,
   "metadata": {},
   "outputs": [],
   "source": [
    "#크롬드라이버가 있는곳의 경로를 chromedriver까지 써줍니다.\n",
    "path = os.getcwd().replace('\\\\','/', 10)\n",
    "driver_path = path + '/chromedriver_win32/chromedriver'"
   ]
  },
  {
   "cell_type": "markdown",
   "metadata": {},
   "source": [
    "#### 스크롤 함수 \n",
    "\n",
    "네이버 쇼핑은 스크롤 하기 전에는 상위 5개 항목만 인식합니다. \n",
    "\n",
    "따라서 스크롤 해주는 함수가 필요합니다."
   ]
  },
  {
   "cell_type": "code",
   "execution_count": 3,
   "metadata": {},
   "outputs": [],
   "source": [
    "#출처 : https://hello-bryan.tistory.com/194\n",
    "def scroll_page(driver, scroll_pause_sec):\n",
    "    \"\"\"driver, 스크롤 후 정지 초를 넘겨주면 맨 아래까지 스크롤해주는 함수\"\"\"\n",
    "    # 스크롤 높이 가져옴\n",
    "    last_height = driver.execute_script(\"return document.body.scrollHeight\")\n",
    "\n",
    "    while True:\n",
    "        # 끝까지 스크롤 다운\n",
    "        driver.execute_script(\"window.scrollTo(0, document.body.scrollHeight);\")\n",
    "\n",
    "        # 1초 대기\n",
    "        time.sleep(scroll_pause_sec)\n",
    "\n",
    "        # 스크롤 다운 후 스크롤 높이 다시 가져옴\n",
    "        new_height = driver.execute_script(\"return document.body.scrollHeight\")\n",
    "        if new_height == last_height:\n",
    "            break\n",
    "        last_height = new_height"
   ]
  },
  {
   "cell_type": "markdown",
   "metadata": {},
   "source": [
    "#### 크롤러\n",
    "드라이버 패스와 네이버 랭킹사용여부(기본값 False일 경우 리뷰개수 순)을 넘겨주면 검색어, 페이지를 입력받아 리뷰와 쇼핑몰 판매정보를 크롤링합니다. \n",
    " <br>\n",
    " <br>\n",
    " _price_info, reviews_ 는 딕셔너리 형태이며\n",
    "크롤러는 다음 튜플을 반환합니다.\n",
    " ```(price_info, reviews)```\n",
    " \n",
    "__price_info__\n",
    "\n",
    "|gift |\tmall | name\t| price | shipping | title\n",
    "---|---|---|---|---|---|\n",
    "1||||||\n",
    "2||||||\n",
    "\n",
    "\n",
    "\n",
    "__reviews__\n",
    "\n",
    "|content |\tdate | id\t| mall | name | option | title\n",
    "---|---|---|---|---|---|---|\n",
    "1|||||||\n",
    "2|||||||\n"
   ]
  },
  {
   "cell_type": "code",
   "execution_count": 19,
   "metadata": {},
   "outputs": [],
   "source": [
    "def naver_shopping_crawler(driver_path, naver_rank = False):\n",
    "\n",
    "    base_url = 'https://shopping.naver.com/'\n",
    "\n",
    "    print('검색어를 입력해주세요 : ')\n",
    "    word = input()\n",
    "\n",
    "    print('로딩중')\n",
    "\n",
    "    driver = webdriver.Chrome(driver_path)\n",
    "    driver.get(base_url)\n",
    "    print('...')\n",
    "    time.sleep(2)\n",
    "    \n",
    "    #검색어 검색하기\n",
    "    elem = driver.find_element_by_xpath('//*[@id=\"autocompleteWrapper\"]/input[1]')\n",
    "    elem.send_keys(word)\n",
    "    elem.send_keys(Keys.RETURN)\n",
    "    print('...')\n",
    "    time.sleep(2)\n",
    "    \n",
    "    #페이지 맨 아래로 스크롤\n",
    "    scroll_page(driver, 1)\n",
    "    \n",
    "    #위의 탭\n",
    "    tabs = driver.find_elements_by_xpath('//a[@class=\"subFilter_filter__3Y-uy\"]')\n",
    "    \n",
    "    #가격비교 클릭\n",
    "    #상품별로 검색할때 xpath가 다르므로 수정 필요\n",
    "    compare_price = tabs[1]\n",
    "    compare_price.send_keys(Keys.ENTER)\n",
    "    # 전체,가격비교,네이버페이,백화점/홈쇼핑,쇼핑윈도,해외직구\n",
    "    \n",
    "    print('...')\n",
    "    time.sleep(1)\n",
    "    \n",
    "    \n",
    "    #find_elements_by_xpath('//a[@class=\"subFilter_sort__rQUtM\"]') 이게 작동을 안함\n",
    "    if naver_rank == False:\n",
    "        sort_by = driver.find_element_by_xpath('//*[@id=\"__next\"]/div/div[2]/div/div[3]/div[1]/div[1]/div/div[1]/a[5]')\n",
    "        sort_by.click()\n",
    "     # 네이버 랭크 옵션이 false면 리뷰순으로 보기 클릭\n",
    "    #상품별로 검색할때 xpath가 다르므로 수정 필요\n",
    "\n",
    "    print('...')\n",
    "    time.sleep(2)\n",
    "        \n",
    "    html_list = driver.page_source \n",
    "    soup_list = BeautifulSoup(html_list)#, 'html.parser')\n",
    "\n",
    "    #페이지 정보 받아와서 상품별 url 리스트로 만듦\n",
    "   \n",
    "    url_list = soup_list.find_all('div', {'class':\"basicList_title__3P9Q7\"})\n",
    "    print('...')\n",
    "    time.sleep(3)\n",
    "    print(\"1페이지  제품 수 : \" +str(len(url_list)))\n",
    "\n",
    "    #가격비교에 있는 상품 수\n",
    "    price_compare_count = soup_list.find_all('span', {'class':'subFilter_num__2x0jq'})[1]\n",
    "    price_compare_count = int(re.sub('<.*?>|,','', str(price_compare_count)))\n",
    "\n",
    "    if price_compare_count % 40 != 0:\n",
    "        price_compare_pages = (price_compare_count //40) +1\n",
    "    else:\n",
    "        price_compare_pages = (price_compare_count //40)\n",
    "\n",
    "\n",
    "    print(\"최대 수집가능 페이지 수 : \", str(price_compare_pages),'\\n','수집을 원하는 페이지 수를 입력해주세요')\n",
    "    n_pages = int(input())\n",
    "    print('1페이지의 일부만 하실 경우 위에서부터 가져올 제품 개수를 입력해주세요\\n',\n",
    "          '아닐경우 40을 입력해주세요')\n",
    "    n_product = int(input())\n",
    "\n",
    "    assert n_pages <= price_compare_pages, \"페이지 수 초과\"\n",
    "\n",
    "    price_info = []\n",
    "    ap_0 = price_info.append\n",
    "\n",
    "    reviews = []\n",
    "    ap_1 = reviews.append\n",
    "\n",
    "    num1 = 0\n",
    "\n",
    "    for page in range(1,1+n_pages):\n",
    "\n",
    "\n",
    "        num1+=1 #페이지 카운트\n",
    "        print('--------------------'+str(num1)+'페이지 입니다----------------------\\n')\n",
    "        num2 = 0 #제품 카운트\n",
    "\n",
    "        for url in tqdm(url_list[:n_product]):\n",
    "            url = url.find('a', {'class':\"basicList_link__1MaTN\"})\n",
    "            url_i = re.search(r'href=[\\'\"]?([^\\'\" >]+)', str(url), re.I|re.S).group(0)[6:]\n",
    "            driver.get(url_i)\n",
    "            html_product_i = driver.page_source\n",
    "            soup_i=BeautifulSoup(html_product_i)\n",
    "\n",
    "            try:\n",
    "                review_count = soup_i.find_all('a', {'href':'#section_review'})[0]\n",
    "                review_count = int(re.sub(r'[^0-9]','', str(review_count)))\n",
    "\n",
    "            except:\n",
    "                review_count = 0\n",
    "            #print(review_count)\n",
    "\n",
    "            name = soup_i.find('div', {'class':'h_area'})\n",
    "            name = re.sub('<.+?>','', str(name.find('h2')), re.I|re.S).strip()\n",
    "\n",
    "            #print(name)\n",
    "\n",
    "            #제품 카운트\n",
    "            num2+=1\n",
    "            print(str(num1)+'페이지 '+str(num2)+'번 제품입니다\\n')\n",
    "\n",
    "            # 판매자 이름\n",
    "            \n",
    "            try:\n",
    "                price_list = soup_i.find_all('table', {'class':'tbl tbl_v'})\n",
    "            except:\n",
    "                print(\"이 상품은 품절입니다.\")\n",
    "                driver.back()\n",
    "                continue\n",
    "\n",
    "            for price_i in price_list:\n",
    "\n",
    "                price_mall = price_i.find('a', {'class':'_priceListMallLogo'})\n",
    "                price_mall = re.search('data-mall-name=\\\".*?\\\"', str(price_mall), re.I|re.S).group(0)[16:-1]\n",
    "\n",
    "                price_title = price_i.find('a',{'class':'goods_tit'})\n",
    "                price_title = re.sub(\"<.*?>\", '', str(price_title))\n",
    "                price_title = re.sub(\"\\n\", '', str(price_title)).strip()\n",
    "\n",
    "                gift = price_i.find('p',{'class':'goods_gift'})\n",
    "                gift = re.sub(\"<.*?>\", '', str(gift))\n",
    "                gift = re.sub(\"\\n\", '', str(gift)).strip()\n",
    "\n",
    "                price = price_i.select('td > a > span')[-1]\n",
    "                price = int(re.sub(\"<.*?>|,\", '', str(price)))\n",
    "\n",
    "                shipping = price_i.select('td > p')[1]\n",
    "                shipping = re.sub(\"<.*?>|,\", '', str(shipping))\n",
    "\n",
    "\n",
    "                price_info_i = {'name':name,\n",
    "                               'mall':price_mall,\n",
    "                               'title':price_title,\n",
    "                               'gift':gift,\n",
    "                               'price':price,\n",
    "                               'shipping':shipping}\n",
    "\n",
    "                ap_0(price_info_i)\n",
    "            \n",
    "            #총 리뷰 페이지 수\n",
    "            #리뷰는 한페이지에 20개까지 표시됩니다.\n",
    "            if review_count == 0:\n",
    "                print(\"이 제품은 리뷰가 없습니다. \\n\")\n",
    "                driver.back()\n",
    "                continue\n",
    "            if review_count % 20 != 0:\n",
    "                review_page = (review_count // 20) + 1\n",
    "            else:\n",
    "                review_page = (review_count // 20)\n",
    "\n",
    "\n",
    "            for page in tqdm(range(1, review_page+1)):\n",
    "\n",
    "                time.sleep(2)\n",
    "\n",
    "                html_for_rvw = driver.page_source\n",
    "                soup_for_rvw = BeautifulSoup(html_for_rvw, 'html.parser')\n",
    "                \n",
    "                \n",
    "                #해당 페이지에 현재 보이는 리뷰들의 리스트\n",
    "                review_list = soup_for_rvw.find('ul', {'id':'_review_list'})\n",
    "                review_list = review_list.find_all('div', {'class':'atc_area'})\n",
    "\n",
    "                for review in review_list:\n",
    "\n",
    "                    rvw_info = review.find_all('span', {'class':'info_cell'})\n",
    "                    mall = re.sub('<.+?>', '', str(rvw_info[0]), re.I|re.S)\n",
    "                    id_ =  re.sub('<.+?>', '', str(rvw_info[1]), re.I|re.S)\n",
    "                    date = re.sub('<.+?>', '', str(rvw_info[2]), re.I|re.S)\n",
    "                    try: #상품 옵션은 있을 수도 없을 수도 있습니다.\n",
    "                        option = re.sub('<.+?>', '', str(rvw_info[3]), re.I|re.S)\n",
    "                    except:\n",
    "                        option = ''\n",
    "\n",
    "                    rvw_title = review.find('p', {'class':'subjcet'})\n",
    "                    rvw_title = re.sub('<.+?>', '', str(rvw_title), re.I|re.S)\n",
    "\n",
    "                    rvw_content = review.find('div', {'class':'atc'})\n",
    "                    rvw_content = re.sub('<.+?>', '', str(rvw_content), re.I|re.S)\n",
    "                    \n",
    "                    #리뷰정보를 딕셔너리로 저장\n",
    "                    rvw_dic = {'name':name,\n",
    "                                'mall' :mall,\n",
    "                               'id' : id_,\n",
    "                               'date' : date,\n",
    "                               'option' :option,\n",
    "                               'title' :rvw_title,\n",
    "                               'content' :rvw_content}\n",
    "                    ap_1(rvw_dic)\n",
    "                \n",
    "                #현재리뷰페이지가 마지막이아니라면, 다음리뷰페이지 버튼을 클릭합니다.\n",
    "                if page < review_page:\n",
    "                    path = '//a[@onclick=\"shop.detail.ReviewHandler.page({}, \\'_review_paging\\'); return false;\"]'.format(page+1)\n",
    "                    button = driver.find_element_by_xpath(path)\n",
    "                    button.send_keys(Keys.ENTER)\n",
    "\n",
    "            driver.back()\n",
    "\n",
    "        #현재 페이지가 지정한 페이지 수보다 적다면, 다음 페이지로 가요\n",
    "        if page < n_pages:\n",
    "            next_page_path = '//a[@class=\"pagination_next__1ITTf\"]'\n",
    "            driver.find_element_by_xpath(next_page_path).click()\n",
    "            time.sleep(2)\n",
    "            scroll_page(driver, 1)\n",
    "\n",
    "    driver.close()\n",
    "    \n",
    "    return (price_info,reviews)"
   ]
  },
  {
   "cell_type": "markdown",
   "metadata": {},
   "source": [
    "## 실행"
   ]
  },
  {
   "cell_type": "code",
   "execution_count": 14,
   "metadata": {},
   "outputs": [
    {
     "name": "stdout",
     "output_type": "stream",
     "text": [
      "검색어를 입력해주세요 : \n",
      "에르메스\n",
      "로딩중\n",
      "...\n",
      "...\n",
      "...\n",
      "...\n",
      "...\n",
      "1페이지  제품 수 : 40\n",
      "최대 수집가능 페이지 수 :  117 \n",
      " 검색을 원하는 페이지 수를 입력해주세요\n",
      "2\n",
      "1페이지만 하실 경우 위에서부터 가져올 제품 개수를 입력해주세요\n",
      " 아닐경우 40을 입력해주세요\n",
      "40\n",
      "--------------------1페이지 입니다----------------------\n",
      "\n"
     ]
    },
    {
     "data": {
      "application/vnd.jupyter.widget-view+json": {
       "model_id": "a89ada3383074a608ec1dbdb493d5e63",
       "version_major": 2,
       "version_minor": 0
      },
      "text/plain": [
       "HBox(children=(FloatProgress(value=0.0, max=40.0), HTML(value='')))"
      ]
     },
     "metadata": {},
     "output_type": "display_data"
    },
    {
     "name": "stdout",
     "output_type": "stream",
     "text": [
      "1페이지 1번 제품입니다\n",
      "\n"
     ]
    },
    {
     "data": {
      "application/vnd.jupyter.widget-view+json": {
       "model_id": "80801f27a71a42a49cc65cf514555b00",
       "version_major": 2,
       "version_minor": 0
      },
      "text/plain": [
       "HBox(children=(FloatProgress(value=0.0, max=1.0), HTML(value='')))"
      ]
     },
     "metadata": {},
     "output_type": "display_data"
    },
    {
     "name": "stdout",
     "output_type": "stream",
     "text": [
      "\n",
      "1페이지 2번 제품입니다\n",
      "\n"
     ]
    },
    {
     "data": {
      "application/vnd.jupyter.widget-view+json": {
       "model_id": "e91a7b4088ef4348a839a81febc8a41c",
       "version_major": 2,
       "version_minor": 0
      },
      "text/plain": [
       "HBox(children=(FloatProgress(value=0.0, max=1.0), HTML(value='')))"
      ]
     },
     "metadata": {},
     "output_type": "display_data"
    },
    {
     "name": "stdout",
     "output_type": "stream",
     "text": [
      "\n",
      "1페이지 3번 제품입니다\n",
      "\n"
     ]
    },
    {
     "data": {
      "application/vnd.jupyter.widget-view+json": {
       "model_id": "cf6e6663d2404631beb75418685fbc5c",
       "version_major": 2,
       "version_minor": 0
      },
      "text/plain": [
       "HBox(children=(FloatProgress(value=0.0, max=1.0), HTML(value='')))"
      ]
     },
     "metadata": {},
     "output_type": "display_data"
    },
    {
     "name": "stdout",
     "output_type": "stream",
     "text": [
      "\n",
      "1페이지 4번 제품입니다\n",
      "\n"
     ]
    },
    {
     "data": {
      "application/vnd.jupyter.widget-view+json": {
       "model_id": "d0c96f9e63e6419680f205884bf72767",
       "version_major": 2,
       "version_minor": 0
      },
      "text/plain": [
       "HBox(children=(FloatProgress(value=0.0, max=15.0), HTML(value='')))"
      ]
     },
     "metadata": {},
     "output_type": "display_data"
    },
    {
     "name": "stdout",
     "output_type": "stream",
     "text": [
      "\n",
      "1페이지 5번 제품입니다\n",
      "\n"
     ]
    },
    {
     "data": {
      "application/vnd.jupyter.widget-view+json": {
       "model_id": "3952c7d3928a4309bd21c28b6ded59a3",
       "version_major": 2,
       "version_minor": 0
      },
      "text/plain": [
       "HBox(children=(FloatProgress(value=0.0, max=3.0), HTML(value='')))"
      ]
     },
     "metadata": {},
     "output_type": "display_data"
    },
    {
     "name": "stdout",
     "output_type": "stream",
     "text": [
      "\n",
      "1페이지 6번 제품입니다\n",
      "\n"
     ]
    },
    {
     "data": {
      "application/vnd.jupyter.widget-view+json": {
       "model_id": "5ddffbf5a25245e99d9412f31f58c35a",
       "version_major": 2,
       "version_minor": 0
      },
      "text/plain": [
       "HBox(children=(FloatProgress(value=0.0, max=1.0), HTML(value='')))"
      ]
     },
     "metadata": {},
     "output_type": "display_data"
    },
    {
     "name": "stdout",
     "output_type": "stream",
     "text": [
      "\n",
      "1페이지 7번 제품입니다\n",
      "\n"
     ]
    },
    {
     "data": {
      "application/vnd.jupyter.widget-view+json": {
       "model_id": "734240e081d543f68bb9430cb88eee25",
       "version_major": 2,
       "version_minor": 0
      },
      "text/plain": [
       "HBox(children=(FloatProgress(value=0.0, max=3.0), HTML(value='')))"
      ]
     },
     "metadata": {},
     "output_type": "display_data"
    },
    {
     "name": "stdout",
     "output_type": "stream",
     "text": [
      "\n",
      "1페이지 8번 제품입니다\n",
      "\n"
     ]
    },
    {
     "data": {
      "application/vnd.jupyter.widget-view+json": {
       "model_id": "87f9ac9b6a184904af7675cb7022b187",
       "version_major": 2,
       "version_minor": 0
      },
      "text/plain": [
       "HBox(children=(FloatProgress(value=0.0, max=1.0), HTML(value='')))"
      ]
     },
     "metadata": {},
     "output_type": "display_data"
    },
    {
     "name": "stdout",
     "output_type": "stream",
     "text": [
      "\n",
      "1페이지 9번 제품입니다\n",
      "\n"
     ]
    },
    {
     "data": {
      "application/vnd.jupyter.widget-view+json": {
       "model_id": "617969ea6f3047bb9df017886d7dde9f",
       "version_major": 2,
       "version_minor": 0
      },
      "text/plain": [
       "HBox(children=(FloatProgress(value=0.0, max=1.0), HTML(value='')))"
      ]
     },
     "metadata": {},
     "output_type": "display_data"
    },
    {
     "name": "stdout",
     "output_type": "stream",
     "text": [
      "\n",
      "1페이지 10번 제품입니다\n",
      "\n"
     ]
    },
    {
     "data": {
      "application/vnd.jupyter.widget-view+json": {
       "model_id": "ee8145b8bbbf42a38d92d23d497a9d61",
       "version_major": 2,
       "version_minor": 0
      },
      "text/plain": [
       "HBox(children=(FloatProgress(value=0.0, max=1.0), HTML(value='')))"
      ]
     },
     "metadata": {},
     "output_type": "display_data"
    },
    {
     "name": "stdout",
     "output_type": "stream",
     "text": [
      "\n",
      "1페이지 11번 제품입니다\n",
      "\n"
     ]
    },
    {
     "data": {
      "application/vnd.jupyter.widget-view+json": {
       "model_id": "3491c522516e4195b1dd9dab859c8737",
       "version_major": 2,
       "version_minor": 0
      },
      "text/plain": [
       "HBox(children=(FloatProgress(value=0.0, max=1.0), HTML(value='')))"
      ]
     },
     "metadata": {},
     "output_type": "display_data"
    },
    {
     "name": "stdout",
     "output_type": "stream",
     "text": [
      "\n",
      "1페이지 12번 제품입니다\n",
      "\n"
     ]
    },
    {
     "data": {
      "application/vnd.jupyter.widget-view+json": {
       "model_id": "67e12f61c97c46c493f516367fa2cbf5",
       "version_major": 2,
       "version_minor": 0
      },
      "text/plain": [
       "HBox(children=(FloatProgress(value=0.0, max=2.0), HTML(value='')))"
      ]
     },
     "metadata": {},
     "output_type": "display_data"
    },
    {
     "name": "stdout",
     "output_type": "stream",
     "text": [
      "\n",
      "1페이지 13번 제품입니다\n",
      "\n"
     ]
    },
    {
     "data": {
      "application/vnd.jupyter.widget-view+json": {
       "model_id": "d2ab8cecf4f84c50a8871d2d1554e45e",
       "version_major": 2,
       "version_minor": 0
      },
      "text/plain": [
       "HBox(children=(FloatProgress(value=0.0, max=1.0), HTML(value='')))"
      ]
     },
     "metadata": {},
     "output_type": "display_data"
    },
    {
     "name": "stdout",
     "output_type": "stream",
     "text": [
      "\n",
      "1페이지 14번 제품입니다\n",
      "\n"
     ]
    },
    {
     "data": {
      "application/vnd.jupyter.widget-view+json": {
       "model_id": "aa5c12ceee524de2adece7589517bdd2",
       "version_major": 2,
       "version_minor": 0
      },
      "text/plain": [
       "HBox(children=(FloatProgress(value=0.0, max=2.0), HTML(value='')))"
      ]
     },
     "metadata": {},
     "output_type": "display_data"
    },
    {
     "name": "stdout",
     "output_type": "stream",
     "text": [
      "\n",
      "1페이지 15번 제품입니다\n",
      "\n"
     ]
    },
    {
     "data": {
      "application/vnd.jupyter.widget-view+json": {
       "model_id": "d4d90c48ad7641e9a1f3233b5c84f1de",
       "version_major": 2,
       "version_minor": 0
      },
      "text/plain": [
       "HBox(children=(FloatProgress(value=0.0, max=4.0), HTML(value='')))"
      ]
     },
     "metadata": {},
     "output_type": "display_data"
    },
    {
     "name": "stdout",
     "output_type": "stream",
     "text": [
      "\n",
      "1페이지 16번 제품입니다\n",
      "\n",
      "이 제품은 리뷰가 없습니다. \n",
      "\n",
      "1페이지 17번 제품입니다\n",
      "\n"
     ]
    },
    {
     "data": {
      "application/vnd.jupyter.widget-view+json": {
       "model_id": "8bbcc7cb80df4e2da9a2e486f53dfecb",
       "version_major": 2,
       "version_minor": 0
      },
      "text/plain": [
       "HBox(children=(FloatProgress(value=0.0, max=1.0), HTML(value='')))"
      ]
     },
     "metadata": {},
     "output_type": "display_data"
    },
    {
     "name": "stdout",
     "output_type": "stream",
     "text": [
      "\n",
      "1페이지 18번 제품입니다\n",
      "\n"
     ]
    },
    {
     "data": {
      "application/vnd.jupyter.widget-view+json": {
       "model_id": "89994ca9ddc34f64b370ec00c45b334a",
       "version_major": 2,
       "version_minor": 0
      },
      "text/plain": [
       "HBox(children=(FloatProgress(value=0.0, max=1.0), HTML(value='')))"
      ]
     },
     "metadata": {},
     "output_type": "display_data"
    },
    {
     "name": "stdout",
     "output_type": "stream",
     "text": [
      "\n",
      "1페이지 19번 제품입니다\n",
      "\n"
     ]
    },
    {
     "data": {
      "application/vnd.jupyter.widget-view+json": {
       "model_id": "14954249b4854a0fb5654f96f4be1f00",
       "version_major": 2,
       "version_minor": 0
      },
      "text/plain": [
       "HBox(children=(FloatProgress(value=0.0, max=1.0), HTML(value='')))"
      ]
     },
     "metadata": {},
     "output_type": "display_data"
    },
    {
     "name": "stdout",
     "output_type": "stream",
     "text": [
      "\n",
      "1페이지 20번 제품입니다\n",
      "\n"
     ]
    },
    {
     "data": {
      "application/vnd.jupyter.widget-view+json": {
       "model_id": "6b367a8100e14ea8b0d3a6e9c506cbc7",
       "version_major": 2,
       "version_minor": 0
      },
      "text/plain": [
       "HBox(children=(FloatProgress(value=0.0, max=1.0), HTML(value='')))"
      ]
     },
     "metadata": {},
     "output_type": "display_data"
    },
    {
     "name": "stdout",
     "output_type": "stream",
     "text": [
      "\n",
      "1페이지 21번 제품입니다\n",
      "\n",
      "이 제품은 리뷰가 없습니다. \n",
      "\n",
      "1페이지 22번 제품입니다\n",
      "\n"
     ]
    },
    {
     "data": {
      "application/vnd.jupyter.widget-view+json": {
       "model_id": "54d45d57ace9430190e6919aecc615ff",
       "version_major": 2,
       "version_minor": 0
      },
      "text/plain": [
       "HBox(children=(FloatProgress(value=0.0, max=1.0), HTML(value='')))"
      ]
     },
     "metadata": {},
     "output_type": "display_data"
    },
    {
     "name": "stdout",
     "output_type": "stream",
     "text": [
      "\n",
      "1페이지 23번 제품입니다\n",
      "\n"
     ]
    },
    {
     "data": {
      "application/vnd.jupyter.widget-view+json": {
       "model_id": "d2707ccb66e2401dbc90dee13a943984",
       "version_major": 2,
       "version_minor": 0
      },
      "text/plain": [
       "HBox(children=(FloatProgress(value=0.0, max=1.0), HTML(value='')))"
      ]
     },
     "metadata": {},
     "output_type": "display_data"
    },
    {
     "name": "stdout",
     "output_type": "stream",
     "text": [
      "\n",
      "1페이지 24번 제품입니다\n",
      "\n"
     ]
    },
    {
     "data": {
      "application/vnd.jupyter.widget-view+json": {
       "model_id": "299a725d97404ea2b9993662fb791cec",
       "version_major": 2,
       "version_minor": 0
      },
      "text/plain": [
       "HBox(children=(FloatProgress(value=0.0, max=1.0), HTML(value='')))"
      ]
     },
     "metadata": {},
     "output_type": "display_data"
    },
    {
     "name": "stdout",
     "output_type": "stream",
     "text": [
      "\n",
      "1페이지 25번 제품입니다\n",
      "\n"
     ]
    },
    {
     "data": {
      "application/vnd.jupyter.widget-view+json": {
       "model_id": "71a29aa8f0ab4b03b175b574e16c7da8",
       "version_major": 2,
       "version_minor": 0
      },
      "text/plain": [
       "HBox(children=(FloatProgress(value=0.0, max=1.0), HTML(value='')))"
      ]
     },
     "metadata": {},
     "output_type": "display_data"
    },
    {
     "name": "stdout",
     "output_type": "stream",
     "text": [
      "\n",
      "1페이지 26번 제품입니다\n",
      "\n",
      "이 제품은 리뷰가 없습니다. \n",
      "\n",
      "1페이지 27번 제품입니다\n",
      "\n",
      "이 제품은 리뷰가 없습니다. \n",
      "\n",
      "1페이지 28번 제품입니다\n",
      "\n"
     ]
    },
    {
     "data": {
      "application/vnd.jupyter.widget-view+json": {
       "model_id": "ac52bd16f042474e81ef7e8701d36bdc",
       "version_major": 2,
       "version_minor": 0
      },
      "text/plain": [
       "HBox(children=(FloatProgress(value=0.0, max=1.0), HTML(value='')))"
      ]
     },
     "metadata": {},
     "output_type": "display_data"
    },
    {
     "name": "stdout",
     "output_type": "stream",
     "text": [
      "\n",
      "1페이지 29번 제품입니다\n",
      "\n",
      "이 제품은 리뷰가 없습니다. \n",
      "\n",
      "1페이지 30번 제품입니다\n",
      "\n",
      "이 제품은 리뷰가 없습니다. \n",
      "\n",
      "1페이지 31번 제품입니다\n",
      "\n"
     ]
    },
    {
     "data": {
      "application/vnd.jupyter.widget-view+json": {
       "model_id": "278d1f0572134256937ddd6931a670fe",
       "version_major": 2,
       "version_minor": 0
      },
      "text/plain": [
       "HBox(children=(FloatProgress(value=0.0, max=2.0), HTML(value='')))"
      ]
     },
     "metadata": {},
     "output_type": "display_data"
    },
    {
     "name": "stdout",
     "output_type": "stream",
     "text": [
      "\n",
      "1페이지 32번 제품입니다\n",
      "\n"
     ]
    },
    {
     "data": {
      "application/vnd.jupyter.widget-view+json": {
       "model_id": "4b8303c3d168477bb34ca60845ef2fc9",
       "version_major": 2,
       "version_minor": 0
      },
      "text/plain": [
       "HBox(children=(FloatProgress(value=0.0, max=1.0), HTML(value='')))"
      ]
     },
     "metadata": {},
     "output_type": "display_data"
    },
    {
     "name": "stdout",
     "output_type": "stream",
     "text": [
      "\n",
      "1페이지 33번 제품입니다\n",
      "\n"
     ]
    },
    {
     "data": {
      "application/vnd.jupyter.widget-view+json": {
       "model_id": "ba1e4b9c99594daeadb782a4258ebaae",
       "version_major": 2,
       "version_minor": 0
      },
      "text/plain": [
       "HBox(children=(FloatProgress(value=0.0, max=1.0), HTML(value='')))"
      ]
     },
     "metadata": {},
     "output_type": "display_data"
    },
    {
     "name": "stdout",
     "output_type": "stream",
     "text": [
      "\n",
      "1페이지 34번 제품입니다\n",
      "\n"
     ]
    },
    {
     "data": {
      "application/vnd.jupyter.widget-view+json": {
       "model_id": "fd9dddaa5e10428ebdb5ce76158ceef5",
       "version_major": 2,
       "version_minor": 0
      },
      "text/plain": [
       "HBox(children=(FloatProgress(value=0.0, max=1.0), HTML(value='')))"
      ]
     },
     "metadata": {},
     "output_type": "display_data"
    },
    {
     "name": "stdout",
     "output_type": "stream",
     "text": [
      "\n",
      "1페이지 35번 제품입니다\n",
      "\n"
     ]
    },
    {
     "data": {
      "application/vnd.jupyter.widget-view+json": {
       "model_id": "0235d10dc9a74255a2274e149e4fdcc4",
       "version_major": 2,
       "version_minor": 0
      },
      "text/plain": [
       "HBox(children=(FloatProgress(value=0.0, max=1.0), HTML(value='')))"
      ]
     },
     "metadata": {},
     "output_type": "display_data"
    },
    {
     "name": "stdout",
     "output_type": "stream",
     "text": [
      "\n",
      "1페이지 36번 제품입니다\n",
      "\n"
     ]
    },
    {
     "data": {
      "application/vnd.jupyter.widget-view+json": {
       "model_id": "f01b652493de4aa19d255c237a40c440",
       "version_major": 2,
       "version_minor": 0
      },
      "text/plain": [
       "HBox(children=(FloatProgress(value=0.0, max=1.0), HTML(value='')))"
      ]
     },
     "metadata": {},
     "output_type": "display_data"
    },
    {
     "name": "stdout",
     "output_type": "stream",
     "text": [
      "\n",
      "1페이지 37번 제품입니다\n",
      "\n"
     ]
    },
    {
     "data": {
      "application/vnd.jupyter.widget-view+json": {
       "model_id": "d9290603ac0d40329ad21553824b4a55",
       "version_major": 2,
       "version_minor": 0
      },
      "text/plain": [
       "HBox(children=(FloatProgress(value=0.0, max=1.0), HTML(value='')))"
      ]
     },
     "metadata": {},
     "output_type": "display_data"
    },
    {
     "name": "stdout",
     "output_type": "stream",
     "text": [
      "\n",
      "1페이지 38번 제품입니다\n",
      "\n",
      "이 제품은 리뷰가 없습니다. \n",
      "\n",
      "1페이지 39번 제품입니다\n",
      "\n"
     ]
    },
    {
     "data": {
      "application/vnd.jupyter.widget-view+json": {
       "model_id": "aa21260f019a49fbbb109953f40297e7",
       "version_major": 2,
       "version_minor": 0
      },
      "text/plain": [
       "HBox(children=(FloatProgress(value=0.0, max=1.0), HTML(value='')))"
      ]
     },
     "metadata": {},
     "output_type": "display_data"
    },
    {
     "name": "stdout",
     "output_type": "stream",
     "text": [
      "\n",
      "1페이지 40번 제품입니다\n",
      "\n"
     ]
    },
    {
     "data": {
      "application/vnd.jupyter.widget-view+json": {
       "model_id": "d2fde9f8ad7142c8b666524ed42dbac9",
       "version_major": 2,
       "version_minor": 0
      },
      "text/plain": [
       "HBox(children=(FloatProgress(value=0.0, max=1.0), HTML(value='')))"
      ]
     },
     "metadata": {},
     "output_type": "display_data"
    },
    {
     "name": "stdout",
     "output_type": "stream",
     "text": [
      "\n",
      "\n",
      "--------------------2페이지 입니다----------------------\n",
      "\n"
     ]
    },
    {
     "data": {
      "application/vnd.jupyter.widget-view+json": {
       "model_id": "134e8b2dd0f24dd48d0b33b22bd567b2",
       "version_major": 2,
       "version_minor": 0
      },
      "text/plain": [
       "HBox(children=(FloatProgress(value=0.0, max=40.0), HTML(value='')))"
      ]
     },
     "metadata": {},
     "output_type": "display_data"
    },
    {
     "name": "stdout",
     "output_type": "stream",
     "text": [
      "2페이지 1번 제품입니다\n",
      "\n"
     ]
    },
    {
     "data": {
      "application/vnd.jupyter.widget-view+json": {
       "model_id": "426996527b9e4da1ba49a9518208e5a4",
       "version_major": 2,
       "version_minor": 0
      },
      "text/plain": [
       "HBox(children=(FloatProgress(value=0.0, max=1.0), HTML(value='')))"
      ]
     },
     "metadata": {},
     "output_type": "display_data"
    },
    {
     "name": "stdout",
     "output_type": "stream",
     "text": [
      "\n",
      "2페이지 2번 제품입니다\n",
      "\n"
     ]
    },
    {
     "data": {
      "application/vnd.jupyter.widget-view+json": {
       "model_id": "9126fb46d33d44a0b01d61c6f4d5521e",
       "version_major": 2,
       "version_minor": 0
      },
      "text/plain": [
       "HBox(children=(FloatProgress(value=0.0, max=1.0), HTML(value='')))"
      ]
     },
     "metadata": {},
     "output_type": "display_data"
    },
    {
     "name": "stdout",
     "output_type": "stream",
     "text": [
      "\n",
      "2페이지 3번 제품입니다\n",
      "\n"
     ]
    },
    {
     "data": {
      "application/vnd.jupyter.widget-view+json": {
       "model_id": "0d00a309d09a4194a6200e414c425577",
       "version_major": 2,
       "version_minor": 0
      },
      "text/plain": [
       "HBox(children=(FloatProgress(value=0.0, max=1.0), HTML(value='')))"
      ]
     },
     "metadata": {},
     "output_type": "display_data"
    },
    {
     "name": "stdout",
     "output_type": "stream",
     "text": [
      "\n",
      "2페이지 4번 제품입니다\n",
      "\n"
     ]
    },
    {
     "data": {
      "application/vnd.jupyter.widget-view+json": {
       "model_id": "5aeacc5c27764a63b0cd8f9e510714b4",
       "version_major": 2,
       "version_minor": 0
      },
      "text/plain": [
       "HBox(children=(FloatProgress(value=0.0, max=15.0), HTML(value='')))"
      ]
     },
     "metadata": {},
     "output_type": "display_data"
    },
    {
     "name": "stdout",
     "output_type": "stream",
     "text": [
      "\n",
      "2페이지 5번 제품입니다\n",
      "\n"
     ]
    },
    {
     "data": {
      "application/vnd.jupyter.widget-view+json": {
       "model_id": "47949ea411264a1697ab616075a7bfe8",
       "version_major": 2,
       "version_minor": 0
      },
      "text/plain": [
       "HBox(children=(FloatProgress(value=0.0, max=3.0), HTML(value='')))"
      ]
     },
     "metadata": {},
     "output_type": "display_data"
    },
    {
     "name": "stdout",
     "output_type": "stream",
     "text": [
      "\n",
      "2페이지 6번 제품입니다\n",
      "\n"
     ]
    },
    {
     "data": {
      "application/vnd.jupyter.widget-view+json": {
       "model_id": "71a0e322b69a404c8fa42651893233c6",
       "version_major": 2,
       "version_minor": 0
      },
      "text/plain": [
       "HBox(children=(FloatProgress(value=0.0, max=1.0), HTML(value='')))"
      ]
     },
     "metadata": {},
     "output_type": "display_data"
    },
    {
     "name": "stdout",
     "output_type": "stream",
     "text": [
      "\n",
      "2페이지 7번 제품입니다\n",
      "\n"
     ]
    },
    {
     "data": {
      "application/vnd.jupyter.widget-view+json": {
       "model_id": "7a07444227ea43e7b211b34b8339cd81",
       "version_major": 2,
       "version_minor": 0
      },
      "text/plain": [
       "HBox(children=(FloatProgress(value=0.0, max=3.0), HTML(value='')))"
      ]
     },
     "metadata": {},
     "output_type": "display_data"
    },
    {
     "name": "stdout",
     "output_type": "stream",
     "text": [
      "\n",
      "2페이지 8번 제품입니다\n",
      "\n"
     ]
    },
    {
     "data": {
      "application/vnd.jupyter.widget-view+json": {
       "model_id": "cd96a710e67043fda3e0a35520694495",
       "version_major": 2,
       "version_minor": 0
      },
      "text/plain": [
       "HBox(children=(FloatProgress(value=0.0, max=1.0), HTML(value='')))"
      ]
     },
     "metadata": {},
     "output_type": "display_data"
    },
    {
     "name": "stdout",
     "output_type": "stream",
     "text": [
      "\n",
      "2페이지 9번 제품입니다\n",
      "\n"
     ]
    },
    {
     "data": {
      "application/vnd.jupyter.widget-view+json": {
       "model_id": "87c41f0d4b574a1caa70d9d4c38dd751",
       "version_major": 2,
       "version_minor": 0
      },
      "text/plain": [
       "HBox(children=(FloatProgress(value=0.0, max=1.0), HTML(value='')))"
      ]
     },
     "metadata": {},
     "output_type": "display_data"
    },
    {
     "name": "stdout",
     "output_type": "stream",
     "text": [
      "\n",
      "2페이지 10번 제품입니다\n",
      "\n"
     ]
    },
    {
     "data": {
      "application/vnd.jupyter.widget-view+json": {
       "model_id": "8010ee80083c44b291aed063b57f5ead",
       "version_major": 2,
       "version_minor": 0
      },
      "text/plain": [
       "HBox(children=(FloatProgress(value=0.0, max=1.0), HTML(value='')))"
      ]
     },
     "metadata": {},
     "output_type": "display_data"
    },
    {
     "name": "stdout",
     "output_type": "stream",
     "text": [
      "\n",
      "2페이지 11번 제품입니다\n",
      "\n"
     ]
    },
    {
     "data": {
      "application/vnd.jupyter.widget-view+json": {
       "model_id": "9903f465d1564d56894e1ed1ab6689e4",
       "version_major": 2,
       "version_minor": 0
      },
      "text/plain": [
       "HBox(children=(FloatProgress(value=0.0, max=1.0), HTML(value='')))"
      ]
     },
     "metadata": {},
     "output_type": "display_data"
    },
    {
     "name": "stdout",
     "output_type": "stream",
     "text": [
      "\n",
      "2페이지 12번 제품입니다\n",
      "\n"
     ]
    },
    {
     "data": {
      "application/vnd.jupyter.widget-view+json": {
       "model_id": "c53e8cb4713540eda6b53d9c4da16f0d",
       "version_major": 2,
       "version_minor": 0
      },
      "text/plain": [
       "HBox(children=(FloatProgress(value=0.0, max=2.0), HTML(value='')))"
      ]
     },
     "metadata": {},
     "output_type": "display_data"
    },
    {
     "name": "stdout",
     "output_type": "stream",
     "text": [
      "\n",
      "2페이지 13번 제품입니다\n",
      "\n"
     ]
    },
    {
     "data": {
      "application/vnd.jupyter.widget-view+json": {
       "model_id": "eb76c33205b146e089e6ad23b59fd992",
       "version_major": 2,
       "version_minor": 0
      },
      "text/plain": [
       "HBox(children=(FloatProgress(value=0.0, max=1.0), HTML(value='')))"
      ]
     },
     "metadata": {},
     "output_type": "display_data"
    },
    {
     "name": "stdout",
     "output_type": "stream",
     "text": [
      "\n",
      "2페이지 14번 제품입니다\n",
      "\n"
     ]
    },
    {
     "data": {
      "application/vnd.jupyter.widget-view+json": {
       "model_id": "4faf1caa7aa0441ab591edb481cc0a68",
       "version_major": 2,
       "version_minor": 0
      },
      "text/plain": [
       "HBox(children=(FloatProgress(value=0.0, max=2.0), HTML(value='')))"
      ]
     },
     "metadata": {},
     "output_type": "display_data"
    },
    {
     "name": "stdout",
     "output_type": "stream",
     "text": [
      "\n",
      "2페이지 15번 제품입니다\n",
      "\n"
     ]
    },
    {
     "data": {
      "application/vnd.jupyter.widget-view+json": {
       "model_id": "781a86230bc546559079faea1ff25dec",
       "version_major": 2,
       "version_minor": 0
      },
      "text/plain": [
       "HBox(children=(FloatProgress(value=0.0, max=4.0), HTML(value='')))"
      ]
     },
     "metadata": {},
     "output_type": "display_data"
    },
    {
     "name": "stdout",
     "output_type": "stream",
     "text": [
      "\n",
      "2페이지 16번 제품입니다\n",
      "\n",
      "이 제품은 리뷰가 없습니다. \n",
      "\n",
      "2페이지 17번 제품입니다\n",
      "\n"
     ]
    },
    {
     "data": {
      "application/vnd.jupyter.widget-view+json": {
       "model_id": "92e379045afe4c26a81e8900a9f4b97f",
       "version_major": 2,
       "version_minor": 0
      },
      "text/plain": [
       "HBox(children=(FloatProgress(value=0.0, max=1.0), HTML(value='')))"
      ]
     },
     "metadata": {},
     "output_type": "display_data"
    },
    {
     "name": "stdout",
     "output_type": "stream",
     "text": [
      "\n",
      "2페이지 18번 제품입니다\n",
      "\n"
     ]
    },
    {
     "data": {
      "application/vnd.jupyter.widget-view+json": {
       "model_id": "d1c01f492474408d90d39a866abf4fbd",
       "version_major": 2,
       "version_minor": 0
      },
      "text/plain": [
       "HBox(children=(FloatProgress(value=0.0, max=1.0), HTML(value='')))"
      ]
     },
     "metadata": {},
     "output_type": "display_data"
    },
    {
     "name": "stdout",
     "output_type": "stream",
     "text": [
      "\n",
      "2페이지 19번 제품입니다\n",
      "\n"
     ]
    },
    {
     "data": {
      "application/vnd.jupyter.widget-view+json": {
       "model_id": "4a7c37f587a84d1fb55d8a77fbc8ffcf",
       "version_major": 2,
       "version_minor": 0
      },
      "text/plain": [
       "HBox(children=(FloatProgress(value=0.0, max=1.0), HTML(value='')))"
      ]
     },
     "metadata": {},
     "output_type": "display_data"
    },
    {
     "name": "stdout",
     "output_type": "stream",
     "text": [
      "\n",
      "2페이지 20번 제품입니다\n",
      "\n"
     ]
    },
    {
     "data": {
      "application/vnd.jupyter.widget-view+json": {
       "model_id": "040411c7623746b4b679b0593118cc64",
       "version_major": 2,
       "version_minor": 0
      },
      "text/plain": [
       "HBox(children=(FloatProgress(value=0.0, max=1.0), HTML(value='')))"
      ]
     },
     "metadata": {},
     "output_type": "display_data"
    },
    {
     "name": "stdout",
     "output_type": "stream",
     "text": [
      "\n",
      "2페이지 21번 제품입니다\n",
      "\n",
      "이 제품은 리뷰가 없습니다. \n",
      "\n",
      "2페이지 22번 제품입니다\n",
      "\n"
     ]
    },
    {
     "data": {
      "application/vnd.jupyter.widget-view+json": {
       "model_id": "763434ad200d421790c7b58367dcf738",
       "version_major": 2,
       "version_minor": 0
      },
      "text/plain": [
       "HBox(children=(FloatProgress(value=0.0, max=1.0), HTML(value='')))"
      ]
     },
     "metadata": {},
     "output_type": "display_data"
    },
    {
     "name": "stdout",
     "output_type": "stream",
     "text": [
      "\n",
      "2페이지 23번 제품입니다\n",
      "\n"
     ]
    },
    {
     "data": {
      "application/vnd.jupyter.widget-view+json": {
       "model_id": "66dcd9d34ba64b09bfd4bd988be86f46",
       "version_major": 2,
       "version_minor": 0
      },
      "text/plain": [
       "HBox(children=(FloatProgress(value=0.0, max=1.0), HTML(value='')))"
      ]
     },
     "metadata": {},
     "output_type": "display_data"
    },
    {
     "name": "stdout",
     "output_type": "stream",
     "text": [
      "\n",
      "2페이지 24번 제품입니다\n",
      "\n"
     ]
    },
    {
     "data": {
      "application/vnd.jupyter.widget-view+json": {
       "model_id": "39e59725ff11460ca3ee27aebe5bd49b",
       "version_major": 2,
       "version_minor": 0
      },
      "text/plain": [
       "HBox(children=(FloatProgress(value=0.0, max=1.0), HTML(value='')))"
      ]
     },
     "metadata": {},
     "output_type": "display_data"
    },
    {
     "name": "stdout",
     "output_type": "stream",
     "text": [
      "\n",
      "2페이지 25번 제품입니다\n",
      "\n"
     ]
    },
    {
     "data": {
      "application/vnd.jupyter.widget-view+json": {
       "model_id": "f7cdc9bda8974834bdaffdefc6aad844",
       "version_major": 2,
       "version_minor": 0
      },
      "text/plain": [
       "HBox(children=(FloatProgress(value=0.0, max=1.0), HTML(value='')))"
      ]
     },
     "metadata": {},
     "output_type": "display_data"
    },
    {
     "name": "stdout",
     "output_type": "stream",
     "text": [
      "\n",
      "2페이지 26번 제품입니다\n",
      "\n",
      "이 제품은 리뷰가 없습니다. \n",
      "\n",
      "2페이지 27번 제품입니다\n",
      "\n",
      "이 제품은 리뷰가 없습니다. \n",
      "\n",
      "2페이지 28번 제품입니다\n",
      "\n"
     ]
    },
    {
     "data": {
      "application/vnd.jupyter.widget-view+json": {
       "model_id": "c5ec4430a3c041299c1acdf3fb850dbf",
       "version_major": 2,
       "version_minor": 0
      },
      "text/plain": [
       "HBox(children=(FloatProgress(value=0.0, max=1.0), HTML(value='')))"
      ]
     },
     "metadata": {},
     "output_type": "display_data"
    },
    {
     "name": "stdout",
     "output_type": "stream",
     "text": [
      "\n",
      "2페이지 29번 제품입니다\n",
      "\n",
      "이 제품은 리뷰가 없습니다. \n",
      "\n",
      "2페이지 30번 제품입니다\n",
      "\n",
      "이 제품은 리뷰가 없습니다. \n",
      "\n",
      "2페이지 31번 제품입니다\n",
      "\n"
     ]
    },
    {
     "data": {
      "application/vnd.jupyter.widget-view+json": {
       "model_id": "526236ff7fb84ec695cdde8d8563b7bd",
       "version_major": 2,
       "version_minor": 0
      },
      "text/plain": [
       "HBox(children=(FloatProgress(value=0.0, max=2.0), HTML(value='')))"
      ]
     },
     "metadata": {},
     "output_type": "display_data"
    },
    {
     "name": "stdout",
     "output_type": "stream",
     "text": [
      "\n",
      "2페이지 32번 제품입니다\n",
      "\n"
     ]
    },
    {
     "data": {
      "application/vnd.jupyter.widget-view+json": {
       "model_id": "cf0ae6e0232042ceaddb09a3d2ce5343",
       "version_major": 2,
       "version_minor": 0
      },
      "text/plain": [
       "HBox(children=(FloatProgress(value=0.0, max=1.0), HTML(value='')))"
      ]
     },
     "metadata": {},
     "output_type": "display_data"
    },
    {
     "name": "stdout",
     "output_type": "stream",
     "text": [
      "\n",
      "2페이지 33번 제품입니다\n",
      "\n"
     ]
    },
    {
     "data": {
      "application/vnd.jupyter.widget-view+json": {
       "model_id": "8e11204eab314d7c9124db3f9d118873",
       "version_major": 2,
       "version_minor": 0
      },
      "text/plain": [
       "HBox(children=(FloatProgress(value=0.0, max=1.0), HTML(value='')))"
      ]
     },
     "metadata": {},
     "output_type": "display_data"
    },
    {
     "name": "stdout",
     "output_type": "stream",
     "text": [
      "\n",
      "2페이지 34번 제품입니다\n",
      "\n"
     ]
    },
    {
     "data": {
      "application/vnd.jupyter.widget-view+json": {
       "model_id": "a95d99fbef8d480d81dce2fc03d921ef",
       "version_major": 2,
       "version_minor": 0
      },
      "text/plain": [
       "HBox(children=(FloatProgress(value=0.0, max=1.0), HTML(value='')))"
      ]
     },
     "metadata": {},
     "output_type": "display_data"
    },
    {
     "name": "stdout",
     "output_type": "stream",
     "text": [
      "\n",
      "2페이지 35번 제품입니다\n",
      "\n"
     ]
    },
    {
     "data": {
      "application/vnd.jupyter.widget-view+json": {
       "model_id": "5696f2ad9a004442a66c1c6aadcd83b3",
       "version_major": 2,
       "version_minor": 0
      },
      "text/plain": [
       "HBox(children=(FloatProgress(value=0.0, max=1.0), HTML(value='')))"
      ]
     },
     "metadata": {},
     "output_type": "display_data"
    },
    {
     "name": "stdout",
     "output_type": "stream",
     "text": [
      "\n",
      "2페이지 36번 제품입니다\n",
      "\n"
     ]
    },
    {
     "data": {
      "application/vnd.jupyter.widget-view+json": {
       "model_id": "271cd0e848c7491180b05379d08a750c",
       "version_major": 2,
       "version_minor": 0
      },
      "text/plain": [
       "HBox(children=(FloatProgress(value=0.0, max=1.0), HTML(value='')))"
      ]
     },
     "metadata": {},
     "output_type": "display_data"
    },
    {
     "name": "stdout",
     "output_type": "stream",
     "text": [
      "\n",
      "2페이지 37번 제품입니다\n",
      "\n"
     ]
    },
    {
     "data": {
      "application/vnd.jupyter.widget-view+json": {
       "model_id": "fa70f4df9f7b404bbec4d4b3661c8a37",
       "version_major": 2,
       "version_minor": 0
      },
      "text/plain": [
       "HBox(children=(FloatProgress(value=0.0, max=1.0), HTML(value='')))"
      ]
     },
     "metadata": {},
     "output_type": "display_data"
    },
    {
     "name": "stdout",
     "output_type": "stream",
     "text": [
      "\n",
      "2페이지 38번 제품입니다\n",
      "\n",
      "이 제품은 리뷰가 없습니다. \n",
      "\n",
      "2페이지 39번 제품입니다\n",
      "\n"
     ]
    },
    {
     "data": {
      "application/vnd.jupyter.widget-view+json": {
       "model_id": "3a65fd139d4b4e9199cc577c87f0825a",
       "version_major": 2,
       "version_minor": 0
      },
      "text/plain": [
       "HBox(children=(FloatProgress(value=0.0, max=1.0), HTML(value='')))"
      ]
     },
     "metadata": {},
     "output_type": "display_data"
    },
    {
     "name": "stdout",
     "output_type": "stream",
     "text": [
      "\n",
      "2페이지 40번 제품입니다\n",
      "\n"
     ]
    },
    {
     "data": {
      "application/vnd.jupyter.widget-view+json": {
       "model_id": "63822ac7d00548b49557941fb0714faa",
       "version_major": 2,
       "version_minor": 0
      },
      "text/plain": [
       "HBox(children=(FloatProgress(value=0.0, max=1.0), HTML(value='')))"
      ]
     },
     "metadata": {},
     "output_type": "display_data"
    },
    {
     "name": "stdout",
     "output_type": "stream",
     "text": [
      "\n",
      "\n"
     ]
    }
   ],
   "source": [
    "#실행결과를 data변수에 저장\n",
    "data = naver_shopping_crawler(driver_path, True)"
   ]
  },
  {
   "cell_type": "code",
   "execution_count": 18,
   "metadata": {},
   "outputs": [
    {
     "data": {
      "text/html": [
       "<div>\n",
       "<style scoped>\n",
       "    .dataframe tbody tr th:only-of-type {\n",
       "        vertical-align: middle;\n",
       "    }\n",
       "\n",
       "    .dataframe tbody tr th {\n",
       "        vertical-align: top;\n",
       "    }\n",
       "\n",
       "    .dataframe thead th {\n",
       "        text-align: right;\n",
       "    }\n",
       "</style>\n",
       "<table border=\"1\" class=\"dataframe\">\n",
       "  <thead>\n",
       "    <tr style=\"text-align: right;\">\n",
       "      <th></th>\n",
       "      <th>content</th>\n",
       "      <th>date</th>\n",
       "      <th>id</th>\n",
       "      <th>mall</th>\n",
       "      <th>name</th>\n",
       "      <th>option</th>\n",
       "      <th>title</th>\n",
       "    </tr>\n",
       "  </thead>\n",
       "  <tbody>\n",
       "    <tr>\n",
       "      <th>0</th>\n",
       "      <td>생각했던 것만큼 정말 예쁜 제품이네요 ㅎㅎ골드랑 고민했었는데, 에토프하길 잘 한듯합...</td>\n",
       "      <td>20.09.19.</td>\n",
       "      <td>love****</td>\n",
       "      <td>베스티 런던</td>\n",
       "      <td>해외에르메스 오켈리 로즈골드 자물쇠 펜던트 목걸이 H078852CD18 H07885...</td>\n",
       "      <td>컬러: 에토프</td>\n",
       "      <td>생각했던 것만큼 정말 예쁜 제품이네요 ㅎㅎ골드랑 고민했었는데, 에토프하길 잘 한듯합...</td>\n",
       "    </tr>\n",
       "    <tr>\n",
       "      <th>1</th>\n",
       "      <td>안전하고 빠른배송 감사해요</td>\n",
       "      <td>20.09.25.</td>\n",
       "      <td>woal****</td>\n",
       "      <td>베스티 런던</td>\n",
       "      <td>해외에르메스 오켈리 로즈골드 자물쇠 펜던트 목걸이 H078852CD18 H07885...</td>\n",
       "      <td>컬러: 골드</td>\n",
       "      <td>안전하고 빠른배송 감사해요</td>\n",
       "    </tr>\n",
       "    <tr>\n",
       "      <th>2</th>\n",
       "      <td>목걸이가 자꾸 뒤집어지긴해도 너무이뻐요!!!로골이라 더이뿜</td>\n",
       "      <td>20.09.09.</td>\n",
       "      <td>jugn****</td>\n",
       "      <td>베스티 런던</td>\n",
       "      <td>해외에르메스 오켈리 로즈골드 자물쇠 펜던트 목걸이 H078852CD18 H07885...</td>\n",
       "      <td>컬러: 골드</td>\n",
       "      <td>목걸이가 자꾸 뒤집어지긴해도 너무이뻐요!!!로골이라 더이뿜</td>\n",
       "    </tr>\n",
       "    <tr>\n",
       "      <th>3</th>\n",
       "      <td>빨리 와서 좋아요 꼼꼼히 포장해주셨고 이쁩니다 쇼핑백도 넣어주셨음 더 좋았을텐데 조...</td>\n",
       "      <td>20.09.01.</td>\n",
       "      <td>hy_j****</td>\n",
       "      <td>베스티 런던</td>\n",
       "      <td>해외에르메스 오켈리 로즈골드 자물쇠 펜던트 목걸이 H078852CD18 H07885...</td>\n",
       "      <td>컬러: 에토프</td>\n",
       "      <td>빨리 와서 좋아요 꼼꼼히 포장해주셨고 이쁩니다 쇼핑백도 넣어주셨음 더 좋았을텐데 조...</td>\n",
       "    </tr>\n",
       "    <tr>\n",
       "      <th>4</th>\n",
       "      <td>디자인.이쁘고.착용감도.좋아요!굿입니다!</td>\n",
       "      <td>20.09.09.</td>\n",
       "      <td>qkrt****</td>\n",
       "      <td>베스티 런던</td>\n",
       "      <td>해외에르메스 오켈리 로즈골드 자물쇠 펜던트 목걸이 H078852CD18 H07885...</td>\n",
       "      <td>컬러: 에토프</td>\n",
       "      <td>디자인.이쁘고.착용감도.좋아요!굿입니다!</td>\n",
       "    </tr>\n",
       "  </tbody>\n",
       "</table>\n",
       "</div>"
      ],
      "text/plain": [
       "                                             content       date        id  \\\n",
       "0  생각했던 것만큼 정말 예쁜 제품이네요 ㅎㅎ골드랑 고민했었는데, 에토프하길 잘 한듯합...  20.09.19.  love****   \n",
       "1                                     안전하고 빠른배송 감사해요  20.09.25.  woal****   \n",
       "2                   목걸이가 자꾸 뒤집어지긴해도 너무이뻐요!!!로골이라 더이뿜  20.09.09.  jugn****   \n",
       "3  빨리 와서 좋아요 꼼꼼히 포장해주셨고 이쁩니다 쇼핑백도 넣어주셨음 더 좋았을텐데 조...  20.09.01.  hy_j****   \n",
       "4                             디자인.이쁘고.착용감도.좋아요!굿입니다!  20.09.09.  qkrt****   \n",
       "\n",
       "     mall                                               name   option  \\\n",
       "0  베스티 런던  해외에르메스 오켈리 로즈골드 자물쇠 펜던트 목걸이 H078852CD18 H07885...  컬러: 에토프   \n",
       "1  베스티 런던  해외에르메스 오켈리 로즈골드 자물쇠 펜던트 목걸이 H078852CD18 H07885...   컬러: 골드   \n",
       "2  베스티 런던  해외에르메스 오켈리 로즈골드 자물쇠 펜던트 목걸이 H078852CD18 H07885...   컬러: 골드   \n",
       "3  베스티 런던  해외에르메스 오켈리 로즈골드 자물쇠 펜던트 목걸이 H078852CD18 H07885...  컬러: 에토프   \n",
       "4  베스티 런던  해외에르메스 오켈리 로즈골드 자물쇠 펜던트 목걸이 H078852CD18 H07885...  컬러: 에토프   \n",
       "\n",
       "                                               title  \n",
       "0  생각했던 것만큼 정말 예쁜 제품이네요 ㅎㅎ골드랑 고민했었는데, 에토프하길 잘 한듯합...  \n",
       "1                                     안전하고 빠른배송 감사해요  \n",
       "2                   목걸이가 자꾸 뒤집어지긴해도 너무이뻐요!!!로골이라 더이뿜  \n",
       "3  빨리 와서 좋아요 꼼꼼히 포장해주셨고 이쁩니다 쇼핑백도 넣어주셨음 더 좋았을텐데 조...  \n",
       "4                             디자인.이쁘고.착용감도.좋아요!굿입니다!  "
      ]
     },
     "execution_count": 18,
     "metadata": {},
     "output_type": "execute_result"
    }
   ],
   "source": [
    "naver_reviews = pd.DataFrame(data[1])\n",
    "naver_reviews.to_csv(\"naver_reiviews\")\n",
    "naver_reviews.head()"
   ]
  },
  {
   "cell_type": "code",
   "execution_count": 17,
   "metadata": {},
   "outputs": [
    {
     "data": {
      "text/html": [
       "<div>\n",
       "<style scoped>\n",
       "    .dataframe tbody tr th:only-of-type {\n",
       "        vertical-align: middle;\n",
       "    }\n",
       "\n",
       "    .dataframe tbody tr th {\n",
       "        vertical-align: top;\n",
       "    }\n",
       "\n",
       "    .dataframe thead th {\n",
       "        text-align: right;\n",
       "    }\n",
       "</style>\n",
       "<table border=\"1\" class=\"dataframe\">\n",
       "  <thead>\n",
       "    <tr style=\"text-align: right;\">\n",
       "      <th></th>\n",
       "      <th>gift</th>\n",
       "      <th>mall</th>\n",
       "      <th>name</th>\n",
       "      <th>price</th>\n",
       "      <th>shipping</th>\n",
       "      <th>title</th>\n",
       "    </tr>\n",
       "  </thead>\n",
       "  <tbody>\n",
       "    <tr>\n",
       "      <th>0</th>\n",
       "      <td></td>\n",
       "      <td>베스티 런던</td>\n",
       "      <td>해외에르메스 오켈리 로즈골드 자물쇠 펜던트 목걸이 H078852CD18 H07885...</td>\n",
       "      <td>345000</td>\n",
       "      <td>25000원</td>\n",
       "      <td>에르메스 오켈리 로즈골드 자물쇠 펜던트 목걸이 스몰 H078852CD18/H0788...</td>\n",
       "    </tr>\n",
       "    <tr>\n",
       "      <th>1</th>\n",
       "      <td></td>\n",
       "      <td>베스티 런던</td>\n",
       "      <td>해외에르메스 오켈리 로즈골드 자물쇠 펜던트 목걸이 H078852CD18 H07885...</td>\n",
       "      <td>409000</td>\n",
       "      <td>10000원</td>\n",
       "      <td>[에르메스] 오켈리 로즈골드 자물쇠 펜던트 목걸이 스몰 H078852CD18/H07...</td>\n",
       "    </tr>\n",
       "    <tr>\n",
       "      <th>2</th>\n",
       "      <td></td>\n",
       "      <td>런던쇼룸</td>\n",
       "      <td>해외에르메스 목걸이 액세서리 여성 1B 제품 H147991FP</td>\n",
       "      <td>531050</td>\n",
       "      <td>무료배송</td>\n",
       "      <td>[Hermes] 에르메스 팝 H 팬던트 네크리스 실버 (4컬러) H147991FP</td>\n",
       "    </tr>\n",
       "    <tr>\n",
       "      <th>3</th>\n",
       "      <td></td>\n",
       "      <td>페퍼센트</td>\n",
       "      <td>해외에르메스 목걸이 액세서리 여성 1B 제품 H147991FP</td>\n",
       "      <td>501000</td>\n",
       "      <td>10000원</td>\n",
       "      <td>에르메스 H 펜던트 JAUNE MIMOSA H147991FP1R</td>\n",
       "    </tr>\n",
       "    <tr>\n",
       "      <th>4</th>\n",
       "      <td></td>\n",
       "      <td>더모어런던</td>\n",
       "      <td>해외에르메스 목걸이 액세서리 여성 1B 제품 H147991FP</td>\n",
       "      <td>520200</td>\n",
       "      <td>10000원</td>\n",
       "      <td>[HERMES] Pop H pendant (Jaune Mimosa) 에르메스 팝에이...</td>\n",
       "    </tr>\n",
       "  </tbody>\n",
       "</table>\n",
       "</div>"
      ],
      "text/plain": [
       "  gift    mall                                               name   price  \\\n",
       "0       베스티 런던  해외에르메스 오켈리 로즈골드 자물쇠 펜던트 목걸이 H078852CD18 H07885...  345000   \n",
       "1       베스티 런던  해외에르메스 오켈리 로즈골드 자물쇠 펜던트 목걸이 H078852CD18 H07885...  409000   \n",
       "2         런던쇼룸                 해외에르메스 목걸이 액세서리 여성 1B 제품 H147991FP  531050   \n",
       "3         페퍼센트                 해외에르메스 목걸이 액세서리 여성 1B 제품 H147991FP  501000   \n",
       "4        더모어런던                 해외에르메스 목걸이 액세서리 여성 1B 제품 H147991FP  520200   \n",
       "\n",
       "  shipping                                              title  \n",
       "0   25000원  에르메스 오켈리 로즈골드 자물쇠 펜던트 목걸이 스몰 H078852CD18/H0788...  \n",
       "1   10000원  [에르메스] 오켈리 로즈골드 자물쇠 펜던트 목걸이 스몰 H078852CD18/H07...  \n",
       "2     무료배송      [Hermes] 에르메스 팝 H 팬던트 네크리스 실버 (4컬러) H147991FP  \n",
       "3   10000원                에르메스 H 펜던트 JAUNE MIMOSA H147991FP1R  \n",
       "4   10000원  [HERMES] Pop H pendant (Jaune Mimosa) 에르메스 팝에이...  "
      ]
     },
     "execution_count": 17,
     "metadata": {},
     "output_type": "execute_result"
    }
   ],
   "source": [
    "naver_price_info  = pd.DataFrame(data[0])\n",
    "naver_price_info.to_csv(\"naver_price_info.csv\")\n",
    "naver_price_info.head()"
   ]
  },
  {
   "cell_type": "markdown",
   "metadata": {},
   "source": [
    "#### 수정 사항\n",
    "+ 크롤링 원하는 상품 +1이 되는 문제 (수정 완료)\n",
    "\n",
    "\n",
    "+ compare_price 부분 수정 \n",
    "\n",
    "    + //*[@id=\"__next\"]/div/div[2]/div[2]/div[4]/div[1]/div[1]/ul/li[2]/a\n",
    "    + 검색어마다 구조가 다름\n",
    "    \n",
    "    \n",
    "+ url_list도 저기 걸리는 태그가 검색어마다 다름\n",
    "\n",
    "\n",
    "+ 스크롤 내리는거 수정(수정완료)\n",
    "\n",
    "\n",
    "+ 로딩시간 기다리기 표시"
   ]
  }
 ],
 "metadata": {
  "kernelspec": {
   "display_name": "Python 3",
   "language": "python",
   "name": "python3"
  },
  "language_info": {
   "codemirror_mode": {
    "name": "ipython",
    "version": 3
   },
   "file_extension": ".py",
   "mimetype": "text/x-python",
   "name": "python",
   "nbconvert_exporter": "python",
   "pygments_lexer": "ipython3",
   "version": "3.6.8"
  }
 },
 "nbformat": 4,
 "nbformat_minor": 2
}
