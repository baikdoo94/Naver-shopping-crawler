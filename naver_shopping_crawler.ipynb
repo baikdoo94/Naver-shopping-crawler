{
 "cells": [
  {
   "cell_type": "markdown",
   "metadata": {},
   "source": [
    "네이버쇼핑 크롤링 코드입니다. \n",
    "\n",
    "\n",
    "검색어와 검색하고자 하는 페이지를 입력하면 크롤링합니다."
   ]
  },
  {
   "cell_type": "code",
   "execution_count": 46,
   "metadata": {},
   "outputs": [],
   "source": [
    "import re, requests, csv\n",
    "from tqdm.notebook import tqdm\n",
    "from bs4 import BeautifulSoup\n",
    "import time\n",
    "from selenium import webdriver\n",
    "from selenium.webdriver.common.keys import Keys\n",
    "import pandas as pd\n",
    "import os"
   ]
  },
  {
   "cell_type": "code",
   "execution_count": 54,
   "metadata": {},
   "outputs": [],
   "source": [
    "#크롬드라이버가 있는곳의 경로를 chromedriver까지 써줍니다.\n",
    "path = os.getcwd().replace('\\\\','/', 10)\n",
    "driver_path = path + '/chromedriver_win32/chromedriver'"
   ]
  },
  {
   "cell_type": "markdown",
   "metadata": {},
   "source": [
    "#### 스크롤 함수 \n",
    "\n",
    "네이버 쇼핑은 스크롤 하기 전에는 상위 5개 항목만 인식합니다. \n",
    "\n",
    "따라서 스크롤 해주는 함수가 필요합니다."
   ]
  },
  {
   "cell_type": "code",
   "execution_count": 30,
   "metadata": {},
   "outputs": [],
   "source": [
    "#출처 : https://hello-bryan.tistory.com/194\n",
    "def scroll_page(driver, scroll_pause_sec):\n",
    "    \"\"\"driver, 스크롤 후 정지 초를 넘겨주면 맨 아래까지 스크롤해주는 함수\"\"\"\n",
    "    # 스크롤 높이 가져옴\n",
    "    last_height = driver.execute_script(\"return document.body.scrollHeight\")\n",
    "\n",
    "    while True:\n",
    "        # 끝까지 스크롤 다운\n",
    "        driver.execute_script(\"window.scrollTo(0, document.body.scrollHeight);\")\n",
    "\n",
    "        # 1초 대기\n",
    "        time.sleep(scroll_pause_sec)\n",
    "\n",
    "        # 스크롤 다운 후 스크롤 높이 다시 가져옴\n",
    "        new_height = driver.execute_script(\"return document.body.scrollHeight\")\n",
    "        if new_height == last_height:\n",
    "            break\n",
    "        last_height = new_height"
   ]
  },
  {
   "cell_type": "markdown",
   "metadata": {},
   "source": [
    "#### 크롤러\n",
    "드라이버 패스를 넘겨주면 검색어, 페이지를 입력받아 리뷰와 쇼핑몰 판매정보를 크롤링합니다. \n",
    " <br>\n",
    " <br>\n",
    " _price_info, reviews_ 는 딕셔너리 형태이며\n",
    "크롤러는 다음 튜플을 반환합니다.\n",
    " ```(price_info, reviews)```\n",
    " \n",
    "__price_info__\n",
    "\n",
    "|gift |\tmall | name\t| price | shipping | title\n",
    "---|---|---|---|---|---|\n",
    "1||||||\n",
    "2||||||\n",
    "\n",
    "\n",
    "\n",
    "__reviews__\n",
    "\n",
    "|content |\tdate | id\t| mall | name | option | title\n",
    "---|---|---|---|---|---|---|\n",
    "1|||||||\n",
    "2|||||||\n"
   ]
  },
  {
   "cell_type": "code",
   "execution_count": null,
   "metadata": {},
   "outputs": [],
   "source": [
    "def naver_shopping_crawler(driver_path):\n",
    "\n",
    "    base_url = 'https://shopping.naver.com/'\n",
    "\n",
    "    print('검색어를 입력해주세요 : ')\n",
    "    word = input()\n",
    "\n",
    "    print('로딩중')\n",
    "\n",
    "    driver = webdriver.Chrome(driver_path)\n",
    "    driver.get(base_url)\n",
    "    print('...')\n",
    "    time.sleep(2)\n",
    "    \n",
    "    #검색어 검색하기\n",
    "    elem = driver.find_element_by_xpath('//*[@id=\"autocompleteWrapper\"]/input[1]')\n",
    "    elem.send_keys(word)\n",
    "    elem.send_keys(Keys.RETURN)\n",
    "    print('...')\n",
    "    time.sleep(2)\n",
    "    \n",
    "    #가격비교 클릭\n",
    "    #상품별로 검색할때 xpath가 다르므로 수정 필요\n",
    "    compare_price = driver.find_element_by_xpath('//*[@id=\"__next\"]/div/div[2]/div/div[3]/div[1]/div[1]/ul/li[2]/a')\n",
    "    compare_price.click()\n",
    "    print('...')\n",
    "    time.sleep(2)\n",
    "\n",
    "    #리뷰순으로 보기 클릭\n",
    "    #상품별로 검색할때 xpath가 다르므로 수정 필요\n",
    "    sorted_by_review_count = driver.find_element_by_xpath('//*[@id=\"__next\"]/div/div[2]/div/div[3]/div[1]/div[1]/div/div[1]/a[5]')\n",
    "    sorted_by_review_count.click()\n",
    "    print('...')\n",
    "    time.sleep(2)\n",
    "\n",
    "    #페이지 맨 아래로 스크롤\n",
    "    scroll_page(driver, 1)\n",
    "    \n",
    "    #페이지 정보 받아와서 상품별 url 리스트로 만듦\n",
    "    html_list = driver.page_source \n",
    "    soup_list = BeautifulSoup(html_list)#, 'html.parser')\n",
    "\n",
    "    url_list = soup_list.find_all('a', {'class':\"basicList_link__1MaTN\"})\n",
    "    print('...')\n",
    "    time.sleep(3)\n",
    "    print(\"1페이지  제품 수 : \" +str(len(url_list)))\n",
    "\n",
    "    #가격비교에 있는 상품 수\n",
    "    price_compare_count = soup_list.find_all('span', {'class':'subFilter_num__2x0jq'})[1]\n",
    "    price_compare_count = int(re.sub('<.*?>|,','', str(price_compare_count)))\n",
    "\n",
    "    if price_compare_count % 40 != 0:\n",
    "        price_compare_pages = (price_compare_count //40) +1\n",
    "    else:\n",
    "        price_compare_pages = (price_compare_count //40)\n",
    "\n",
    "\n",
    "    print(\"최대 수집가능 페이지 수 : \", str(price_compare_pages),'\\n','검색을 원하는 페이지 수를 입력해주세요')\n",
    "    n_pages = int(input())\n",
    "    print('페이지 하나 당 위에서부터 가져올 제품 개수를 입력해주세요')\n",
    "    n_product = int(input())\n",
    "\n",
    "    assert n_pages <= price_compare_pages, \"페이지 수 초과\"\n",
    "\n",
    "    price_info = []\n",
    "    ap_0 = price_info.append\n",
    "\n",
    "    reviews = []\n",
    "    ap_1 = reviews.append\n",
    "\n",
    "    num1 = 0\n",
    "\n",
    "    for page in range(1,1+n_pages):\n",
    "\n",
    "\n",
    "        num1+=1 #페이지 카운트\n",
    "        print('--------------------'+str(num1)+'페이지 입니다----------------------\\n')\n",
    "        num2 = 0 #제품 카운트\n",
    "\n",
    "        for url in tqdm(url_list[:n_product+1]):\n",
    "            url_i = re.search(r'href=[\\'\"]?([^\\'\" >]+)', str(url), re.I|re.S).group(0)[6:]\n",
    "            driver.get(url_i)\n",
    "            html_product_i = driver.page_source\n",
    "            soup_i=BeautifulSoup(html_product_i)\n",
    "\n",
    "            try:\n",
    "                review_count = soup_i.find_all('a', {'href':'#section_review'})[0]\n",
    "                review_count = int(re.sub(r'[^0-9]','', str(review_count)))\n",
    "\n",
    "            except:\n",
    "                review_count = 0\n",
    "            #print(review_count)\n",
    "\n",
    "            name = soup_i.find('div', {'class':'h_area'})\n",
    "            name = re.sub('<.+?>','', str(name.find('h2')), re.I|re.S).strip()\n",
    "\n",
    "            #print(name)\n",
    "\n",
    "            #제품 카운트\n",
    "            num2+=1\n",
    "            print(str(num1)+'페이지 '+str(num2)+'번 제품입니다\\n')\n",
    "\n",
    "            # 판매자 이름\n",
    "            \n",
    "            try:\n",
    "                price_list = soup_i.find_all('table', {'class':'tbl tbl_v'})\n",
    "            except:\n",
    "                print(\"이 상품은 품절입니다.\")\n",
    "                driver.back()\n",
    "                continue\n",
    "\n",
    "            for price_i in price_list:\n",
    "\n",
    "                price_mall = price_i.find('a', {'class':'_priceListMallLogo'})\n",
    "                price_mall = re.search('data-mall-name=\\\".*?\\\"', str(price_mall), re.I|re.S).group(0)[16:-1]\n",
    "\n",
    "                price_title = price_i.find('a',{'class':'goods_tit'})\n",
    "                price_title = re.sub(\"<.*?>\", '', str(price_title))\n",
    "                price_title = re.sub(\"\\n\", '', str(price_title)).strip()\n",
    "\n",
    "                gift = price_i.find('p',{'class':'goods_gift'})\n",
    "                gift = re.sub(\"<.*?>\", '', str(gift))\n",
    "                gift = re.sub(\"\\n\", '', str(gift)).strip()\n",
    "\n",
    "                price = price_i.select('td > a > span')[-1]\n",
    "                price = int(re.sub(\"<.*?>|,\", '', str(price)))\n",
    "\n",
    "                shipping = price_i.select('td > p')[1]\n",
    "                shipping = re.sub(\"<.*?>|,\", '', str(shipping))\n",
    "\n",
    "\n",
    "                price_info_i = {'name':name,\n",
    "                               'mall':price_mall,\n",
    "                               'title':price_title,\n",
    "                               'gift':gift,\n",
    "                               'price':price,\n",
    "                               'shipping':shipping}\n",
    "\n",
    "                ap_0(price_info_i)\n",
    "            \n",
    "            #총 리뷰 페이지 수\n",
    "            #리뷰는 한페이지에 20개까지 표시됩니다.\n",
    "            if review_count == 0:\n",
    "                print(\"이 제품은 리뷰가 없습니다. \\n\")\n",
    "                driver.back()\n",
    "                continue\n",
    "            if review_count % 20 != 0:\n",
    "                review_page = (review_count // 20) + 1\n",
    "            else:\n",
    "                review_page = (review_count // 20)\n",
    "\n",
    "\n",
    "            for page in tqdm(range(1, review_page+1)):\n",
    "\n",
    "                time.sleep(2)\n",
    "\n",
    "                html_for_rvw = driver.page_source\n",
    "                soup_for_rvw = BeautifulSoup(html_for_rvw, 'html.parser')\n",
    "                \n",
    "                \n",
    "                #해당 페이지에 현재 보이는 리뷰들의 리스트\n",
    "                review_list = soup_for_rvw.find('ul', {'id':'_review_list'})\n",
    "                review_list = review_list.find_all('div', {'class':'atc_area'})\n",
    "\n",
    "                for review in review_list:\n",
    "\n",
    "                    rvw_info = review.find_all('span', {'class':'info_cell'})\n",
    "                    mall = re.sub('<.+?>', '', str(rvw_info[0]), re.I|re.S)\n",
    "                    id_ =  re.sub('<.+?>', '', str(rvw_info[1]), re.I|re.S)\n",
    "                    date = re.sub('<.+?>', '', str(rvw_info[2]), re.I|re.S)\n",
    "                    try: #상품 옵션은 있을 수도 없을 수도 있습니다.\n",
    "                        option = re.sub('<.+?>', '', str(rvw_info[3]), re.I|re.S)\n",
    "                    except:\n",
    "                        option = ''\n",
    "\n",
    "                    rvw_title = review.find('p', {'class':'subjcet'})\n",
    "                    rvw_title = re.sub('<.+?>', '', str(rvw_title), re.I|re.S)\n",
    "\n",
    "                    rvw_content = review.find('div', {'class':'atc'})\n",
    "                    rvw_content = re.sub('<.+?>', '', str(rvw_content), re.I|re.S)\n",
    "                    \n",
    "                    #리뷰정보를 딕셔너리로 저장\n",
    "                    rvw_dic = {'name':name,\n",
    "                                'mall' :mall,\n",
    "                               'id' : id_,\n",
    "                               'date' : date,\n",
    "                               'option' :option,\n",
    "                               'title' :rvw_title,\n",
    "                               'content' :rvw_content}\n",
    "                    ap_1(rvw_dic)\n",
    "                \n",
    "                #현재리뷰페이지가 마지막이아니라면, 다음리뷰페이지 버튼을 클릭합니다.\n",
    "                if page < review_page:\n",
    "                    path = '//a[@onclick=\"shop.detail.ReviewHandler.page({}, \\'_review_paging\\'); return false;\"]'.format(page+1)\n",
    "                    button = driver.find_element_by_xpath(path)\n",
    "                    button.send_keys(Keys.ENTER)\n",
    "\n",
    "            driver.back()\n",
    "\n",
    "        #현재 페이지가 지정한 페이지 수보다 적다면, 다음 페이지로 가요\n",
    "        if page < n_pages:\n",
    "            next_page_path = '//a[@class=\"pagination_next__1ITTf\"]'\n",
    "            driver.find_element_by_xpath(next_page_path).click()\n",
    "            time.sleep(2)\n",
    "            scroll_page(driver, 1)\n",
    "\n",
    "    driver.close()\n",
    "    \n",
    "    return (price_info,reviews)"
   ]
  },
  {
   "cell_type": "code",
   "execution_count": 36,
   "metadata": {
    "collapsed": true
   },
   "outputs": [
    {
     "name": "stdout",
     "output_type": "stream",
     "text": [
      "검색어를 입력해주세요 : \n",
      "쪽쪽이 살균\n",
      "로딩중\n",
      "40\n",
      "최대 수집가능 페이지 수 :  2 \n",
      " 검색을 원하는 페이지 수를 입력해주세요\n",
      "1\n",
      "페이지 하나 당 위에서부터 가져올 제품 개수를 입력해주세요\n",
      "8\n",
      "--------------------1페이지 입니다----------------------\n",
      "\n"
     ]
    },
    {
     "data": {
      "application/vnd.jupyter.widget-view+json": {
       "model_id": "eb048b68685f4cbf808b8659d8b73dbb",
       "version_major": 2,
       "version_minor": 0
      },
      "text/plain": [
       "HBox(children=(FloatProgress(value=0.0, max=9.0), HTML(value='')))"
      ]
     },
     "metadata": {},
     "output_type": "display_data"
    },
    {
     "name": "stdout",
     "output_type": "stream",
     "text": [
      "1페이지 1번 제품입니다\n",
      "\n"
     ]
    },
    {
     "data": {
      "application/vnd.jupyter.widget-view+json": {
       "model_id": "acdd9fae6c414e48aaa2de66b598c141",
       "version_major": 2,
       "version_minor": 0
      },
      "text/plain": [
       "HBox(children=(FloatProgress(value=0.0, max=89.0), HTML(value='')))"
      ]
     },
     "metadata": {},
     "output_type": "display_data"
    },
    {
     "name": "stdout",
     "output_type": "stream",
     "text": [
      "\n",
      "1페이지 2번 제품입니다\n",
      "\n"
     ]
    },
    {
     "data": {
      "application/vnd.jupyter.widget-view+json": {
       "model_id": "5f901ad513f0484a836dd8ffdbf13e22",
       "version_major": 2,
       "version_minor": 0
      },
      "text/plain": [
       "HBox(children=(FloatProgress(value=0.0, max=8.0), HTML(value='')))"
      ]
     },
     "metadata": {},
     "output_type": "display_data"
    },
    {
     "name": "stdout",
     "output_type": "stream",
     "text": [
      "\n",
      "1페이지 3번 제품입니다\n",
      "\n"
     ]
    },
    {
     "data": {
      "application/vnd.jupyter.widget-view+json": {
       "model_id": "de13f47ed28e4b83abacdeac804182b7",
       "version_major": 2,
       "version_minor": 0
      },
      "text/plain": [
       "HBox(children=(FloatProgress(value=0.0, max=7.0), HTML(value='')))"
      ]
     },
     "metadata": {},
     "output_type": "display_data"
    },
    {
     "name": "stdout",
     "output_type": "stream",
     "text": [
      "\n",
      "1페이지 4번 제품입니다\n",
      "\n"
     ]
    },
    {
     "data": {
      "application/vnd.jupyter.widget-view+json": {
       "model_id": "52250211b2ca4a609b09e46f2f7617de",
       "version_major": 2,
       "version_minor": 0
      },
      "text/plain": [
       "HBox(children=(FloatProgress(value=0.0, max=2.0), HTML(value='')))"
      ]
     },
     "metadata": {},
     "output_type": "display_data"
    },
    {
     "name": "stdout",
     "output_type": "stream",
     "text": [
      "\n",
      "1페이지 5번 제품입니다\n",
      "\n"
     ]
    },
    {
     "data": {
      "application/vnd.jupyter.widget-view+json": {
       "model_id": "28e6b22a1728431ca6a5408f025bbee3",
       "version_major": 2,
       "version_minor": 0
      },
      "text/plain": [
       "HBox(children=(FloatProgress(value=0.0, max=1.0), HTML(value='')))"
      ]
     },
     "metadata": {},
     "output_type": "display_data"
    },
    {
     "name": "stdout",
     "output_type": "stream",
     "text": [
      "\n",
      "1페이지 6번 제품입니다\n",
      "\n"
     ]
    },
    {
     "data": {
      "application/vnd.jupyter.widget-view+json": {
       "model_id": "afab5ce408764a94a4cb93a5f4667ea2",
       "version_major": 2,
       "version_minor": 0
      },
      "text/plain": [
       "HBox(children=(FloatProgress(value=0.0, max=1.0), HTML(value='')))"
      ]
     },
     "metadata": {},
     "output_type": "display_data"
    },
    {
     "name": "stdout",
     "output_type": "stream",
     "text": [
      "\n",
      "1페이지 7번 제품입니다\n",
      "\n"
     ]
    },
    {
     "data": {
      "application/vnd.jupyter.widget-view+json": {
       "model_id": "4cc99b7946d74f9a90c56488dd35d547",
       "version_major": 2,
       "version_minor": 0
      },
      "text/plain": [
       "HBox(children=(FloatProgress(value=0.0, max=1.0), HTML(value='')))"
      ]
     },
     "metadata": {},
     "output_type": "display_data"
    },
    {
     "name": "stdout",
     "output_type": "stream",
     "text": [
      "\n",
      "1페이지 8번 제품입니다\n",
      "\n"
     ]
    },
    {
     "data": {
      "application/vnd.jupyter.widget-view+json": {
       "model_id": "1b012165b62e4a859ba35eb61d849a22",
       "version_major": 2,
       "version_minor": 0
      },
      "text/plain": [
       "HBox(children=(FloatProgress(value=0.0, max=1.0), HTML(value='')))"
      ]
     },
     "metadata": {},
     "output_type": "display_data"
    },
    {
     "name": "stdout",
     "output_type": "stream",
     "text": [
      "\n",
      "1페이지 9번 제품입니다\n",
      "\n",
      "이 제품은 리뷰가 없습니다. \n",
      "\n",
      "\n"
     ]
    }
   ],
   "source": [
    "#실행결과를 data변수에 저장하려면\n",
    "data = naver_shopping_crawler(driver_path)"
   ]
  },
  {
   "cell_type": "code",
   "execution_count": 56,
   "metadata": {},
   "outputs": [
    {
     "data": {
      "text/html": [
       "<div>\n",
       "<style scoped>\n",
       "    .dataframe tbody tr th:only-of-type {\n",
       "        vertical-align: middle;\n",
       "    }\n",
       "\n",
       "    .dataframe tbody tr th {\n",
       "        vertical-align: top;\n",
       "    }\n",
       "\n",
       "    .dataframe thead th {\n",
       "        text-align: right;\n",
       "    }\n",
       "</style>\n",
       "<table border=\"1\" class=\"dataframe\">\n",
       "  <thead>\n",
       "    <tr style=\"text-align: right;\">\n",
       "      <th></th>\n",
       "      <th>content</th>\n",
       "      <th>date</th>\n",
       "      <th>id</th>\n",
       "      <th>mall</th>\n",
       "      <th>name</th>\n",
       "      <th>option</th>\n",
       "      <th>title</th>\n",
       "    </tr>\n",
       "  </thead>\n",
       "  <tbody>\n",
       "    <tr>\n",
       "      <th>2112</th>\n",
       "      <td>휴대하기 편리하며 다양한 소독용도 활용 및 여행 시 외출 시 젖병.아이 소형 장난감...</td>\n",
       "      <td>20.05.21.</td>\n",
       "      <td>elle****</td>\n",
       "      <td>핸디트립</td>\n",
       "      <td>휴대용 젖병 쪽쪽이 소독기 미니 공갈꼭지 살균기</td>\n",
       "      <td></td>\n",
       "      <td>휴대하기 편리하며 다양한 소독용도 활용 및 여행 시 외출 시 젖병.아이 소형 장난감...</td>\n",
       "    </tr>\n",
       "    <tr>\n",
       "      <th>2113</th>\n",
       "      <td>친구랑 만날일이있어 잠시 만났는데 친구 애기가 마스크 밑에 쪽쪽이를 하고있더라구요 ...</td>\n",
       "      <td>20.08.24.</td>\n",
       "      <td>asr*****</td>\n",
       "      <td>위메프</td>\n",
       "      <td>미니짱 쪽쪽이 공갈노리개 휴대용 자외선살균기 ns-30</td>\n",
       "      <td></td>\n",
       "      <td>친구랑 만날일이있어 잠시 만났는데 친구 애기가 마스크 밑에 쪽쪽이를 하고있더라구요 ...</td>\n",
       "    </tr>\n",
       "    <tr>\n",
       "      <th>2114</th>\n",
       "      <td>아무거나 잘들어가서 좋아요살균이 되는건가 싶은데 뚜껑열면 멈추니 확인할방법이 없잖아...</td>\n",
       "      <td>20.09.09.</td>\n",
       "      <td>zlzl****</td>\n",
       "      <td>미니짱</td>\n",
       "      <td>미니짱 쪽쪽이 공갈노리개 휴대용 자외선살균기 ns-30</td>\n",
       "      <td></td>\n",
       "      <td>아무거나 잘들어가서 좋아요살균이 되는건가 싶은데 뚜껑열면 멈추니 확인할방법이 없잖아...</td>\n",
       "    </tr>\n",
       "    <tr>\n",
       "      <th>2115</th>\n",
       "      <td>쪽쪽이 살균기 용도로 구입했는데 가장 좋은건충전식이라 건전지가 필요없구 사용하기도 ...</td>\n",
       "      <td>20.07.31.</td>\n",
       "      <td>i*g*****</td>\n",
       "      <td>G마켓</td>\n",
       "      <td>미니짱 쪽쪽이 공갈노리개 휴대용 자외선살균기 ns-30</td>\n",
       "      <td></td>\n",
       "      <td>마음에 쏙~~~드는 소독기 입니다</td>\n",
       "    </tr>\n",
       "    <tr>\n",
       "      <th>2116</th>\n",
       "      <td>편리하게 쓰여요 좋습니다</td>\n",
       "      <td>20.05.31.</td>\n",
       "      <td>h*t*****</td>\n",
       "      <td>G마켓</td>\n",
       "      <td>휴대용 젖병소독기 쪽쪽이 치발기 살균 케이스 UV살균기 큐티톡</td>\n",
       "      <td></td>\n",
       "      <td>미니사이즈</td>\n",
       "    </tr>\n",
       "  </tbody>\n",
       "</table>\n",
       "</div>"
      ],
      "text/plain": [
       "                                                content       date        id  \\\n",
       "2112  휴대하기 편리하며 다양한 소독용도 활용 및 여행 시 외출 시 젖병.아이 소형 장난감...  20.05.21.  elle****   \n",
       "2113  친구랑 만날일이있어 잠시 만났는데 친구 애기가 마스크 밑에 쪽쪽이를 하고있더라구요 ...  20.08.24.  asr*****   \n",
       "2114  아무거나 잘들어가서 좋아요살균이 되는건가 싶은데 뚜껑열면 멈추니 확인할방법이 없잖아...  20.09.09.  zlzl****   \n",
       "2115  쪽쪽이 살균기 용도로 구입했는데 가장 좋은건충전식이라 건전지가 필요없구 사용하기도 ...  20.07.31.  i*g*****   \n",
       "2116                                      편리하게 쓰여요 좋습니다  20.05.31.  h*t*****   \n",
       "\n",
       "      mall                                name option  \\\n",
       "2112  핸디트립          휴대용 젖병 쪽쪽이 소독기 미니 공갈꼭지 살균기          \n",
       "2113   위메프      미니짱 쪽쪽이 공갈노리개 휴대용 자외선살균기 ns-30          \n",
       "2114   미니짱      미니짱 쪽쪽이 공갈노리개 휴대용 자외선살균기 ns-30          \n",
       "2115   G마켓      미니짱 쪽쪽이 공갈노리개 휴대용 자외선살균기 ns-30          \n",
       "2116   G마켓  휴대용 젖병소독기 쪽쪽이 치발기 살균 케이스 UV살균기 큐티톡          \n",
       "\n",
       "                                                  title  \n",
       "2112  휴대하기 편리하며 다양한 소독용도 활용 및 여행 시 외출 시 젖병.아이 소형 장난감...  \n",
       "2113  친구랑 만날일이있어 잠시 만났는데 친구 애기가 마스크 밑에 쪽쪽이를 하고있더라구요 ...  \n",
       "2114  아무거나 잘들어가서 좋아요살균이 되는건가 싶은데 뚜껑열면 멈추니 확인할방법이 없잖아...  \n",
       "2115                                 마음에 쏙~~~드는 소독기 입니다  \n",
       "2116                                              미니사이즈  "
      ]
     },
     "execution_count": 56,
     "metadata": {},
     "output_type": "execute_result"
    }
   ],
   "source": [
    "naver_reviews = pd.DataFrame(data[1])\n",
    "naver_reviews.to_csv(\"naver_reiviews\")\n",
    "naver_reviews.tail()"
   ]
  },
  {
   "cell_type": "code",
   "execution_count": 55,
   "metadata": {},
   "outputs": [
    {
     "data": {
      "text/html": [
       "<div>\n",
       "<style scoped>\n",
       "    .dataframe tbody tr th:only-of-type {\n",
       "        vertical-align: middle;\n",
       "    }\n",
       "\n",
       "    .dataframe tbody tr th {\n",
       "        vertical-align: top;\n",
       "    }\n",
       "\n",
       "    .dataframe thead th {\n",
       "        text-align: right;\n",
       "    }\n",
       "</style>\n",
       "<table border=\"1\" class=\"dataframe\">\n",
       "  <thead>\n",
       "    <tr style=\"text-align: right;\">\n",
       "      <th></th>\n",
       "      <th>gift</th>\n",
       "      <th>mall</th>\n",
       "      <th>name</th>\n",
       "      <th>price</th>\n",
       "      <th>shipping</th>\n",
       "      <th>title</th>\n",
       "    </tr>\n",
       "  </thead>\n",
       "  <tbody>\n",
       "    <tr>\n",
       "      <th>44</th>\n",
       "      <td>[삼성카드 1% 청구할인] [신한/KB국민/현대 100만원 이상 SK pay 결제 ...</td>\n",
       "      <td>11번가</td>\n",
       "      <td>휴대용 젖병소독기 쪽쪽이 치발기 살균 케이스 UV살균기 큐티톡</td>\n",
       "      <td>30000</td>\n",
       "      <td>무료배송</td>\n",
       "      <td>휴대용 젖병소독기 쪽쪽이 치발기 살균 케이스 UV살균기 큐티톡 시그니처</td>\n",
       "    </tr>\n",
       "    <tr>\n",
       "      <th>45</th>\n",
       "      <td>[KB국민/현대/신한 스마일페이 100만원 이상 결제 시 최대 20개월 무이자][삼...</td>\n",
       "      <td>G마켓</td>\n",
       "      <td>휴대용 젖병소독기 쪽쪽이 치발기 살균 케이스 UV살균기 큐티톡</td>\n",
       "      <td>30000</td>\n",
       "      <td>무료배송</td>\n",
       "      <td>휴대용 젖병소독기 쪽쪽이 치발기  UV살균기 큐티톡</td>\n",
       "    </tr>\n",
       "    <tr>\n",
       "      <th>46</th>\n",
       "      <td>신규 앱다운시 5천원 할인쿠폰/ 신규회원가입시 5천원,1만원,3만원 할인쿠폰 증정</td>\n",
       "      <td>텐바이텐</td>\n",
       "      <td>NO.1육아필수템 휘아 츄케어 쪽쪽이살균기</td>\n",
       "      <td>39750</td>\n",
       "      <td>2500원</td>\n",
       "      <td>[NO.1육아필수템] 휘아 츄케어(쪽쪽이살균기) 살균용품</td>\n",
       "    </tr>\n",
       "    <tr>\n",
       "      <th>47</th>\n",
       "      <td>첫 구매 시 30일 동안 무제한 무료배송 / 로켓배송은 오늘 주문 내일 도착 / 로...</td>\n",
       "      <td>쿠팡</td>\n",
       "      <td>NO.1육아필수템 휘아 츄케어 쪽쪽이살균기</td>\n",
       "      <td>39750</td>\n",
       "      <td>2500원</td>\n",
       "      <td>[NO.1육아필수템] 휘아 츄케어(쪽쪽이살균기)</td>\n",
       "    </tr>\n",
       "    <tr>\n",
       "      <th>48</th>\n",
       "      <td>[삼성카드 1% 청구할인] [신한/KB국민/현대 100만원 이상 SK pay 결제 ...</td>\n",
       "      <td>11번가</td>\n",
       "      <td>NO.1육아필수템 휘아 츄케어 쪽쪽이살균기</td>\n",
       "      <td>39750</td>\n",
       "      <td>2500원</td>\n",
       "      <td>[NO.1육아필수템] 휘아 츄케어(쪽쪽이살균기)</td>\n",
       "    </tr>\n",
       "  </tbody>\n",
       "</table>\n",
       "</div>"
      ],
      "text/plain": [
       "                                                 gift  mall  \\\n",
       "44  [삼성카드 1% 청구할인] [신한/KB국민/현대 100만원 이상 SK pay 결제 ...  11번가   \n",
       "45  [KB국민/현대/신한 스마일페이 100만원 이상 결제 시 최대 20개월 무이자][삼...   G마켓   \n",
       "46      신규 앱다운시 5천원 할인쿠폰/ 신규회원가입시 5천원,1만원,3만원 할인쿠폰 증정  텐바이텐   \n",
       "47  첫 구매 시 30일 동안 무제한 무료배송 / 로켓배송은 오늘 주문 내일 도착 / 로...    쿠팡   \n",
       "48  [삼성카드 1% 청구할인] [신한/KB국민/현대 100만원 이상 SK pay 결제 ...  11번가   \n",
       "\n",
       "                                  name  price shipping  \\\n",
       "44  휴대용 젖병소독기 쪽쪽이 치발기 살균 케이스 UV살균기 큐티톡  30000     무료배송   \n",
       "45  휴대용 젖병소독기 쪽쪽이 치발기 살균 케이스 UV살균기 큐티톡  30000     무료배송   \n",
       "46             NO.1육아필수템 휘아 츄케어 쪽쪽이살균기  39750    2500원   \n",
       "47             NO.1육아필수템 휘아 츄케어 쪽쪽이살균기  39750    2500원   \n",
       "48             NO.1육아필수템 휘아 츄케어 쪽쪽이살균기  39750    2500원   \n",
       "\n",
       "                                      title  \n",
       "44  휴대용 젖병소독기 쪽쪽이 치발기 살균 케이스 UV살균기 큐티톡 시그니처  \n",
       "45             휴대용 젖병소독기 쪽쪽이 치발기  UV살균기 큐티톡  \n",
       "46          [NO.1육아필수템] 휘아 츄케어(쪽쪽이살균기) 살균용품  \n",
       "47               [NO.1육아필수템] 휘아 츄케어(쪽쪽이살균기)  \n",
       "48               [NO.1육아필수템] 휘아 츄케어(쪽쪽이살균기)  "
      ]
     },
     "execution_count": 55,
     "metadata": {},
     "output_type": "execute_result"
    }
   ],
   "source": [
    "naver_price_info  = pd.DataFrame(data[0])\n",
    "naver_price_info.to_csv(\"naver_price_info.csv\")\n",
    "naver_price_info.tail()"
   ]
  },
  {
   "cell_type": "markdown",
   "metadata": {},
   "source": [
    "#### 수정 사항\n",
    "+ 크롤링 원하는 상품 +1이 되는 문제\n",
    "\n",
    "\n",
    "+ compare_price 부분 수정 \n",
    "\n",
    "    + //*[@id=\"__next\"]/div/div[2]/div[2]/div[4]/div[1]/div[1]/ul/li[2]/a\n",
    "    + 검색어마다 구조가 다름\n",
    "    \n",
    "    \n",
    "+ url_list도 저기 걸리는 태그가 검색어마다 다름\n",
    "\n",
    "\n",
    "+ 스크롤 내리는거 수정(수정완료)\n",
    "\n",
    "\n",
    "+ 로딩시간 기다리기 표시"
   ]
  }
 ],
 "metadata": {
  "kernelspec": {
   "display_name": "Python 3",
   "language": "python",
   "name": "python3"
  },
  "language_info": {
   "codemirror_mode": {
    "name": "ipython",
    "version": 3
   },
   "file_extension": ".py",
   "mimetype": "text/x-python",
   "name": "python",
   "nbconvert_exporter": "python",
   "pygments_lexer": "ipython3",
   "version": "3.6.8"
  }
 },
 "nbformat": 4,
 "nbformat_minor": 2
}
